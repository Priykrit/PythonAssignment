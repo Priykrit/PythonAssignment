{
 "cells": [
  {
   "cell_type": "markdown",
   "id": "09f3c796-a7fb-4a4d-aa23-814f3b5db3f2",
   "metadata": {},
   "source": [
    "### Que 1"
   ]
  },
  {
   "cell_type": "markdown",
   "id": "5b4506cb-e2a9-4309-a789-c2d9916c541e",
   "metadata": {},
   "source": [
    "We can comment code using the '#' symbol. Anything after the '#' symbol on a line is considered a comment and is ignored by the interpreter. There are two types of comments in Python:\n",
    "\n",
    "Single-line comments: These comments are used to add a comment to a single line of code. For example:\n",
    "python"
   ]
  },
  {
   "cell_type": "code",
   "execution_count": 2,
   "id": "893bd405-ab80-46b7-ba4d-84da0de38164",
   "metadata": {},
   "outputs": [],
   "source": [
    "# This is a single-line comment"
   ]
  },
  {
   "cell_type": "markdown",
   "id": "094e63e0-31ae-4919-9a1d-92eda7abf628",
   "metadata": {},
   "source": [
    "Multi-line comments: These comments span multiple lines and are often used to provide descriptions or explanations for a block of code. In Python, there is no specific syntax for multi-line comments, but you can use triple quotes (''' or \"\"\") to achieve the same effect."
   ]
  },
  {
   "cell_type": "code",
   "execution_count": 3,
   "id": "bf037566-c6c3-4698-99c9-e0c19925f22e",
   "metadata": {},
   "outputs": [
    {
     "data": {
      "text/plain": [
       "'\\nThis is a\\nmulti-line comment\\n'"
      ]
     },
     "execution_count": 3,
     "metadata": {},
     "output_type": "execute_result"
    }
   ],
   "source": [
    "'''\n",
    "This is a\n",
    "multi-line comment\n",
    "'''"
   ]
  },
  {
   "cell_type": "markdown",
   "id": "9136c435-b2f3-4ccd-9845-09ed8246bef2",
   "metadata": {},
   "source": [
    "### Que 2"
   ]
  },
  {
   "cell_type": "markdown",
   "id": "60b57c73-9781-42a8-b9ec-b4eabd74a088",
   "metadata": {},
   "source": [
    "Variables in Python are used to store and manipulate data. We can declare a variable and assign a value to it using the following syntax:"
   ]
  },
  {
   "cell_type": "code",
   "execution_count": 2,
   "id": "91aa29fd-1842-42bd-a763-14f13144fd72",
   "metadata": {},
   "outputs": [],
   "source": [
    "x = 10\n",
    "name = \"Priykrit\""
   ]
  },
  {
   "cell_type": "markdown",
   "id": "a1fa84c9-f90b-4c26-a86a-c08da1de73eb",
   "metadata": {},
   "source": [
    "### Que 3"
   ]
  },
  {
   "cell_type": "markdown",
   "id": "f75d544e-9860-4d2f-afd4-bd07a525d463",
   "metadata": {},
   "source": [
    "To convert from one type to another, we can use type casting by following built-in functions:\n",
    "\n",
    "* int(): Converts a value to an integer.\n",
    "* float(): Converts a value to a floating-point number.\n",
    "* str(): Converts a value to a string.\n",
    "* list(): Converts a value to a list.\n",
    "* tuple(): Converts a value to a tuple.\n",
    "* dict(): Converts a value to a dictionary."
   ]
  },
  {
   "cell_type": "code",
   "execution_count": 3,
   "id": "d6047d7f-171a-4e4e-9c09-de1efd922432",
   "metadata": {},
   "outputs": [],
   "source": [
    "x = int(\"10\")\n",
    "y = float(\"3.14\")\n",
    "z = str(42)\n",
    "my_list = list((1, 2, 3))\n",
    "my_tuple = tuple([1, 2, 3])\n",
    "my_dict = dict([(1, \"one\"), (2, \"two\")])"
   ]
  },
  {
   "cell_type": "code",
   "execution_count": 4,
   "id": "75442ef3-d54c-4bcb-957a-5391b8c68566",
   "metadata": {},
   "outputs": [
    {
     "data": {
      "text/plain": [
       "(10, 3.14, '42', [1, 2, 3], (1, 2, 3), {1: 'one', 2: 'two'})"
      ]
     },
     "execution_count": 4,
     "metadata": {},
     "output_type": "execute_result"
    }
   ],
   "source": [
    "x,y,z,my_list,my_tuple,my_dict"
   ]
  },
  {
   "cell_type": "markdown",
   "id": "a2c48d91-472e-4e10-8d32-20fd6e033be3",
   "metadata": {},
   "source": [
    "### Que 4"
   ]
  },
  {
   "cell_type": "markdown",
   "id": "91a8f376-fb14-4fdf-b0f7-114b4d302b49",
   "metadata": {},
   "source": [
    "* Create a new file with a .py extension.\n",
    "* Write Python code in the file and save it.\n",
    "* Open the command line or terminal.\n",
    "* Navigate to the directory where the script is located using the cd command.\n",
    "* Run the script using the python command followed by the script name."
   ]
  },
  {
   "cell_type": "markdown",
   "id": "b817a295-9cb8-437d-8126-70768d2b9172",
   "metadata": {},
   "source": [
    "python script_name.py"
   ]
  },
  {
   "cell_type": "markdown",
   "id": "ead24429-194f-4cae-8095-e153f11e2e68",
   "metadata": {},
   "source": [
    "### Que 5"
   ]
  },
  {
   "cell_type": "code",
   "execution_count": 5,
   "id": "cc0cd84e-e6e7-4da1-b77c-c7d25716f502",
   "metadata": {},
   "outputs": [],
   "source": [
    "my_list = [1, 2, 3, 4, 5]"
   ]
  },
  {
   "cell_type": "code",
   "execution_count": 6,
   "id": "7c41d495-1c48-4933-a1a0-2bb5a11d5aa3",
   "metadata": {},
   "outputs": [
    {
     "data": {
      "text/plain": [
       "[2, 3]"
      ]
     },
     "execution_count": 6,
     "metadata": {},
     "output_type": "execute_result"
    }
   ],
   "source": [
    "my_list[1:3]"
   ]
  },
  {
   "cell_type": "markdown",
   "id": "18e28aed-ebce-4809-a5bc-197ea91b2754",
   "metadata": {},
   "source": [
    "### Que 6"
   ]
  },
  {
   "cell_type": "markdown",
   "id": "6ff17c3f-f2ef-4ab1-a1bc-cae49787f2a7",
   "metadata": {},
   "source": [
    "complex number is a number that can be expressed in the form a + bi, where a and b are real numbers, and i is the imaginary unit(sqrt(-1)).\n",
    "In Python, complex numbers are represented using the syntax a + bj, where a is real and bj is imaginary part."
   ]
  },
  {
   "cell_type": "code",
   "execution_count": 7,
   "id": "23cc6b0a-cc6f-44a1-a481-4e9cfd188b10",
   "metadata": {},
   "outputs": [],
   "source": [
    "q = 2 + 3j"
   ]
  },
  {
   "cell_type": "code",
   "execution_count": 8,
   "id": "4e3a5ba1-b824-4aae-b543-ae55413c8cb3",
   "metadata": {},
   "outputs": [
    {
     "data": {
      "text/plain": [
       "complex"
      ]
     },
     "execution_count": 8,
     "metadata": {},
     "output_type": "execute_result"
    }
   ],
   "source": [
    "type(q)"
   ]
  },
  {
   "cell_type": "markdown",
   "id": "f11d0cad-e983-4bc3-ac6f-68e082da2525",
   "metadata": {},
   "source": [
    "### Que 7"
   ]
  },
  {
   "cell_type": "code",
   "execution_count": 9,
   "id": "1b8376b5-7daa-47db-ac3c-5658b184d1da",
   "metadata": {},
   "outputs": [],
   "source": [
    "age = 25"
   ]
  },
  {
   "cell_type": "code",
   "execution_count": 11,
   "id": "e789450c-7a9a-488f-8d02-b338eec1f35e",
   "metadata": {},
   "outputs": [
    {
     "data": {
      "text/plain": [
       "(int, 25)"
      ]
     },
     "execution_count": 11,
     "metadata": {},
     "output_type": "execute_result"
    }
   ],
   "source": [
    "type(age),age"
   ]
  },
  {
   "cell_type": "markdown",
   "id": "8e214806-17d0-41d1-ab08-1fb69c744a82",
   "metadata": {},
   "source": [
    "### Que 8"
   ]
  },
  {
   "cell_type": "code",
   "execution_count": 12,
   "id": "3b5a6e6d-f8ed-4720-9e66-94a037aea6ed",
   "metadata": {},
   "outputs": [
    {
     "data": {
      "text/plain": [
       "float"
      ]
     },
     "execution_count": 12,
     "metadata": {},
     "output_type": "execute_result"
    }
   ],
   "source": [
    "price = 9.99\n",
    "type(price)"
   ]
  },
  {
   "cell_type": "markdown",
   "id": "a699e6b5-1f95-4867-85c2-03a365a167d8",
   "metadata": {},
   "source": [
    "### Que 9"
   ]
  },
  {
   "cell_type": "code",
   "execution_count": 14,
   "id": "c805966a-c33c-4716-9cba-061343035626",
   "metadata": {},
   "outputs": [
    {
     "name": "stdout",
     "output_type": "stream",
     "text": [
      "Priykrit Varma\n"
     ]
    }
   ],
   "source": [
    "name = \"Priykrit Varma\"\n",
    "print(name)"
   ]
  },
  {
   "cell_type": "markdown",
   "id": "7b1aa55a-3802-4f52-84ae-10875192652c",
   "metadata": {},
   "source": [
    "### Que 10"
   ]
  },
  {
   "cell_type": "code",
   "execution_count": 16,
   "id": "25c686ba-6978-439d-a57a-323c573822ba",
   "metadata": {},
   "outputs": [
    {
     "data": {
      "text/plain": [
       "'World'"
      ]
     },
     "execution_count": 16,
     "metadata": {},
     "output_type": "execute_result"
    }
   ],
   "source": [
    "s = \"Hello, World!\"\n",
    "s[7:-1]"
   ]
  },
  {
   "cell_type": "code",
   "execution_count": 19,
   "id": "ead30dc3-4bb9-484c-80d2-69fdab8f4e16",
   "metadata": {},
   "outputs": [
    {
     "data": {
      "text/plain": [
       "'World'"
      ]
     },
     "execution_count": 19,
     "metadata": {},
     "output_type": "execute_result"
    }
   ],
   "source": [
    "s.split(\" \")[1][:-1]"
   ]
  },
  {
   "cell_type": "markdown",
   "id": "359e4828-6cc9-4ab9-aa4e-4fdc12926938",
   "metadata": {},
   "source": [
    "### Que 11"
   ]
  },
  {
   "cell_type": "code",
   "execution_count": 21,
   "id": "6ab2a2b5-0f6d-435b-b768-49e504fdbb80",
   "metadata": {},
   "outputs": [
    {
     "data": {
      "text/plain": [
       "bool"
      ]
     },
     "execution_count": 21,
     "metadata": {},
     "output_type": "execute_result"
    }
   ],
   "source": [
    "is_student = True\n",
    "type(is_student)"
   ]
  },
  {
   "cell_type": "code",
   "execution_count": null,
   "id": "ef94374f-9463-42cf-adef-f37421bcd3be",
   "metadata": {},
   "outputs": [],
   "source": []
  }
 ],
 "metadata": {
  "kernelspec": {
   "display_name": "Python 3 (ipykernel)",
   "language": "python",
   "name": "python3"
  },
  "language_info": {
   "codemirror_mode": {
    "name": "ipython",
    "version": 3
   },
   "file_extension": ".py",
   "mimetype": "text/x-python",
   "name": "python",
   "nbconvert_exporter": "python",
   "pygments_lexer": "ipython3",
   "version": "3.10.8"
  }
 },
 "nbformat": 4,
 "nbformat_minor": 5
}
