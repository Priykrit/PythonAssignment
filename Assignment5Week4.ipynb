{
 "cells": [
  {
   "cell_type": "markdown",
   "id": "97dbab99-6723-47cd-9003-46f34cbf2859",
   "metadata": {},
   "source": [
    "## Que 1"
   ]
  },
  {
   "cell_type": "markdown",
   "id": "2db628e9-6893-4e17-9076-af58612c1d3f",
   "metadata": {},
   "source": [
    "Class is like blueprint or template which define structure or behaviour of objects. Where as objects are like instances of class which represent specific instance or occurance of real world entity"
   ]
  },
  {
   "cell_type": "code",
   "execution_count": 2,
   "id": "5aad8849-8073-4d2f-86ba-d10960b670f7",
   "metadata": {},
   "outputs": [],
   "source": [
    "class car:\n",
    "    def __init__(self,name,company,colour):\n",
    "        self.name = name\n",
    "        self.company = company\n",
    "        self.colour = colour"
   ]
  },
  {
   "cell_type": "code",
   "execution_count": 3,
   "id": "f6433f0a-846c-412c-8a0d-c24dce012358",
   "metadata": {},
   "outputs": [],
   "source": [
    "aulto = car(\"Aulto\",\"Maruti\",\"Silver\")"
   ]
  },
  {
   "cell_type": "markdown",
   "id": "80fb9433-3edf-459d-8a0b-04f459cbf89a",
   "metadata": {},
   "source": [
    "Here car is class which is general blue print and aulto is object of that class"
   ]
  },
  {
   "cell_type": "markdown",
   "id": "8b971286-1576-4fbc-b337-288adef2e2d9",
   "metadata": {},
   "source": [
    "## Que 2"
   ]
  },
  {
   "cell_type": "markdown",
   "id": "6ef940cb-71b8-4083-9313-584516463977",
   "metadata": {},
   "source": [
    "Four pillar's of OOP's are:-\n",
    "1. Abstraction\n",
    "2. Encapsulation\n",
    "3. Polymorphism\n",
    "4. Inheritance"
   ]
  },
  {
   "cell_type": "markdown",
   "id": "9f259dc0-56b7-4200-8dad-016a199cfc56",
   "metadata": {},
   "source": [
    "## Que 3"
   ]
  },
  {
   "cell_type": "markdown",
   "id": "1cd5d20d-83a8-42a9-b8b4-fb9011340aaa",
   "metadata": {},
   "source": [
    "The ____init____() function, also known as the constructor method, is a special method in Python class. It is automatically called when an object is created from a class. The primary purpose of the __init__() method is to initialize the attributes (data) of an object."
   ]
  },
  {
   "cell_type": "code",
   "execution_count": 4,
   "id": "ec86a490-7574-4478-93ea-7c017935f7ad",
   "metadata": {},
   "outputs": [],
   "source": [
    "class bike:\n",
    "    def __init__(self,name,company,colour):\n",
    "        self.name = name\n",
    "        self.company = company\n",
    "        self.colour = colour"
   ]
  },
  {
   "cell_type": "code",
   "execution_count": 5,
   "id": "5a0c6e33-c490-4ac8-a917-7a0597b4d140",
   "metadata": {},
   "outputs": [],
   "source": [
    "pulser = bike(\"pulser\",\"bajaj\",\"red\")"
   ]
  },
  {
   "cell_type": "code",
   "execution_count": 6,
   "id": "16645e0b-2482-4ff1-8477-b7f5982e2838",
   "metadata": {},
   "outputs": [
    {
     "data": {
      "text/plain": [
       "'pulser'"
      ]
     },
     "execution_count": 6,
     "metadata": {},
     "output_type": "execute_result"
    }
   ],
   "source": [
    "pulser.name"
   ]
  },
  {
   "cell_type": "code",
   "execution_count": 7,
   "id": "f182eac6-f264-420d-bd1a-aa19e84dd1da",
   "metadata": {},
   "outputs": [
    {
     "data": {
      "text/plain": [
       "'bajaj'"
      ]
     },
     "execution_count": 7,
     "metadata": {},
     "output_type": "execute_result"
    }
   ],
   "source": [
    "pulser.company"
   ]
  },
  {
   "cell_type": "markdown",
   "id": "463e0b1a-1e1e-444c-a44a-71420487619b",
   "metadata": {},
   "source": [
    "Here bike is class with init() and name, company, colour are getting initilize inside init()"
   ]
  },
  {
   "cell_type": "markdown",
   "id": "980b478e-3cfb-4aa4-bb15-263204c14778",
   "metadata": {},
   "source": [
    "## Que 4"
   ]
  },
  {
   "cell_type": "markdown",
   "id": "2dde02e9-8884-4c3c-823a-ac63e00e1f4d",
   "metadata": {},
   "source": [
    "In object-oriented programming (OOP), the self parameter is used as a reference to the instance of a class. It is a convention in Python to name this parameter as self, although you can use any name you prefer (but self is strongly recommended for clarity and readability)."
   ]
  },
  {
   "cell_type": "code",
   "execution_count": 13,
   "id": "a1e97fed-1750-4bb2-8293-f6b5a5892e11",
   "metadata": {},
   "outputs": [],
   "source": [
    "class area:\n",
    "    def __init__(self,r):\n",
    "        self.radius = r\n",
    "    def findarea(self):\n",
    "        return 3.14*(self.radius**2)"
   ]
  },
  {
   "cell_type": "code",
   "execution_count": 14,
   "id": "385cb117-4797-4149-adbd-d3e525076f61",
   "metadata": {},
   "outputs": [
    {
     "data": {
      "text/plain": [
       "12.56"
      ]
     },
     "execution_count": 14,
     "metadata": {},
     "output_type": "execute_result"
    }
   ],
   "source": [
    "a = area(2)\n",
    "a.findarea()"
   ]
  },
  {
   "cell_type": "markdown",
   "id": "a5d9add3-5552-4b6e-9608-949392c71e5c",
   "metadata": {},
   "source": [
    "In the above example, the self parameter is used within the __init__() method and the findarea() method. When we create an object a from the area class, the self parameter represents that specific instance of the object."
   ]
  },
  {
   "cell_type": "markdown",
   "id": "56a17636-4d11-4b6a-aed2-166b473d81c5",
   "metadata": {},
   "source": [
    "## Que 5"
   ]
  },
  {
   "cell_type": "markdown",
   "id": "03617f1e-593a-4913-8e7e-aae2861de89d",
   "metadata": {},
   "source": [
    "Inheritance is a fundamental concept in object-oriented programming (OOP) that allows the creation of new classes (derived classes) based on existing classes (base classes). "
   ]
  },
  {
   "cell_type": "markdown",
   "id": "62f68081-f44d-4e93-bf88-e50627a336fa",
   "metadata": {},
   "source": [
    "### Single Inheritance:"
   ]
  },
  {
   "cell_type": "code",
   "execution_count": 15,
   "id": "3f95dc7e-aa54-4a17-8d10-fef58b1f16de",
   "metadata": {},
   "outputs": [],
   "source": [
    "class A:\n",
    "    def mem(self):\n",
    "        print(\"This method is from class A\")"
   ]
  },
  {
   "cell_type": "code",
   "execution_count": 16,
   "id": "19b789ce-60b5-4cc4-a77b-e17e63297bb8",
   "metadata": {},
   "outputs": [],
   "source": [
    "class B(A):\n",
    "    def mem1(self):\n",
    "        print(\"This method is from class B\")"
   ]
  },
  {
   "cell_type": "code",
   "execution_count": 17,
   "id": "eb40a406-fa77-4f09-b32c-5d6a8d8a78f7",
   "metadata": {},
   "outputs": [],
   "source": [
    "b = B()"
   ]
  },
  {
   "cell_type": "code",
   "execution_count": 18,
   "id": "231d3e43-cb09-49d5-9251-95f816528052",
   "metadata": {},
   "outputs": [
    {
     "name": "stdout",
     "output_type": "stream",
     "text": [
      "This method is from class A\n"
     ]
    }
   ],
   "source": [
    "b.mem()"
   ]
  },
  {
   "cell_type": "code",
   "execution_count": 19,
   "id": "f44abbc3-415b-4505-806c-ce7be8e438b8",
   "metadata": {},
   "outputs": [
    {
     "name": "stdout",
     "output_type": "stream",
     "text": [
      "This method is from class B\n"
     ]
    }
   ],
   "source": [
    "b.mem1()"
   ]
  },
  {
   "cell_type": "markdown",
   "id": "c46ade75-a995-4977-a376-f441b8476e00",
   "metadata": {},
   "source": [
    "### Multiple Inheritance:"
   ]
  },
  {
   "cell_type": "code",
   "execution_count": 20,
   "id": "8f214903-3906-4f94-b465-04334248fb10",
   "metadata": {},
   "outputs": [],
   "source": [
    "class A:\n",
    "    def mem(self):\n",
    "        print(\"This method is from class A\")"
   ]
  },
  {
   "cell_type": "code",
   "execution_count": 21,
   "id": "c9167090-0a70-405f-87d8-b981902f2a3a",
   "metadata": {},
   "outputs": [],
   "source": [
    "class C:\n",
    "    def mem1(self):\n",
    "        print(\"This method is from class C\")"
   ]
  },
  {
   "cell_type": "code",
   "execution_count": 23,
   "id": "eba981eb-5f86-4fdf-aba2-2f488b7f8bd8",
   "metadata": {},
   "outputs": [],
   "source": [
    "class B(A,C):\n",
    "    def mem2(self):\n",
    "        print(\"This method is from class B\")"
   ]
  },
  {
   "cell_type": "code",
   "execution_count": 24,
   "id": "1c18f29c-ee9d-4408-af0d-421e6363a47e",
   "metadata": {},
   "outputs": [],
   "source": [
    "b=B()"
   ]
  },
  {
   "cell_type": "code",
   "execution_count": 25,
   "id": "47e1dfb7-1acf-4f8a-8b2a-18bcd72291c9",
   "metadata": {},
   "outputs": [
    {
     "name": "stdout",
     "output_type": "stream",
     "text": [
      "This method is from class A\n",
      "This method is from class C\n",
      "This method is from class B\n"
     ]
    },
    {
     "data": {
      "text/plain": [
       "(None, None, None)"
      ]
     },
     "execution_count": 25,
     "metadata": {},
     "output_type": "execute_result"
    }
   ],
   "source": [
    "b.mem(),b.mem1(),b.mem2()"
   ]
  },
  {
   "cell_type": "markdown",
   "id": "3b1b4e13-338f-4a9f-865c-4797f036187b",
   "metadata": {},
   "source": [
    "### Multilevel Inheritance:"
   ]
  },
  {
   "cell_type": "code",
   "execution_count": 31,
   "id": "011d97f6-e714-4787-8bb1-39f5ea6b50bf",
   "metadata": {},
   "outputs": [],
   "source": [
    "class A:\n",
    "    def mem(self):\n",
    "        print(\"This method is from class A\")"
   ]
  },
  {
   "cell_type": "code",
   "execution_count": 32,
   "id": "db5f12ef-4cde-4d03-b2d0-4b1cd18c475f",
   "metadata": {},
   "outputs": [],
   "source": [
    "class C(A):\n",
    "    def mem1(self):\n",
    "        print(\"This method is from class C\")"
   ]
  },
  {
   "cell_type": "code",
   "execution_count": 33,
   "id": "00ad21a1-4fc7-4f45-b40d-be8d0eef25c5",
   "metadata": {},
   "outputs": [],
   "source": [
    "class B(C):\n",
    "    def mem2(self):\n",
    "        print(\"This method is from class B\")"
   ]
  },
  {
   "cell_type": "code",
   "execution_count": 34,
   "id": "cca8b49d-a33b-42e4-a444-fbf5a8517b29",
   "metadata": {},
   "outputs": [],
   "source": [
    "b=B()"
   ]
  },
  {
   "cell_type": "code",
   "execution_count": 35,
   "id": "8d0289dc-e9c6-4c8b-8213-0e8cd6fa3c48",
   "metadata": {},
   "outputs": [
    {
     "name": "stdout",
     "output_type": "stream",
     "text": [
      "This method is from class A\n",
      "This method is from class C\n",
      "This method is from class B\n"
     ]
    },
    {
     "data": {
      "text/plain": [
       "(None, None, None)"
      ]
     },
     "execution_count": 35,
     "metadata": {},
     "output_type": "execute_result"
    }
   ],
   "source": [
    "b.mem(),b.mem1(),b.mem2()"
   ]
  },
  {
   "cell_type": "markdown",
   "id": "61dc2c3d-de8b-4e25-9330-a918ced85898",
   "metadata": {},
   "source": [
    "### Hierarchical Inheritance:"
   ]
  },
  {
   "cell_type": "code",
   "execution_count": 37,
   "id": "f10c328c-7fe0-45df-9ae1-eb9601410bc1",
   "metadata": {},
   "outputs": [],
   "source": [
    "class A:\n",
    "    def mem(self):\n",
    "        print(\"This method is from class A\")"
   ]
  },
  {
   "cell_type": "code",
   "execution_count": 38,
   "id": "ff9f66aa-5eee-40ed-a101-f576529e9ef3",
   "metadata": {},
   "outputs": [],
   "source": [
    "class B(A):\n",
    "    def mem2(self):\n",
    "        print(\"This method is from class B\")"
   ]
  },
  {
   "cell_type": "code",
   "execution_count": 39,
   "id": "18211ed8-de00-429b-b907-b3b86dbc10be",
   "metadata": {},
   "outputs": [],
   "source": [
    "class C(A):\n",
    "    def mem1(self):\n",
    "        print(\"This method is from class C\")"
   ]
  },
  {
   "cell_type": "code",
   "execution_count": 40,
   "id": "9d04e2a3-b8ce-46d8-add8-eab797d3310a",
   "metadata": {},
   "outputs": [],
   "source": [
    "b=B()\n",
    "c=C()"
   ]
  },
  {
   "cell_type": "code",
   "execution_count": 41,
   "id": "12f19883-445b-47fd-8cec-c0392177ac3a",
   "metadata": {},
   "outputs": [
    {
     "name": "stdout",
     "output_type": "stream",
     "text": [
      "This method is from class A\n",
      "This method is from class B\n",
      "This method is from class A\n",
      "This method is from class C\n"
     ]
    },
    {
     "data": {
      "text/plain": [
       "(None, None, None, None)"
      ]
     },
     "execution_count": 41,
     "metadata": {},
     "output_type": "execute_result"
    }
   ],
   "source": [
    "b.mem(),b.mem2(),c.mem(),c.mem1()"
   ]
  }
 ],
 "metadata": {
  "kernelspec": {
   "display_name": "Python 3 (ipykernel)",
   "language": "python",
   "name": "python3"
  },
  "language_info": {
   "codemirror_mode": {
    "name": "ipython",
    "version": 3
   },
   "file_extension": ".py",
   "mimetype": "text/x-python",
   "name": "python",
   "nbconvert_exporter": "python",
   "pygments_lexer": "ipython3",
   "version": "3.10.8"
  }
 },
 "nbformat": 4,
 "nbformat_minor": 5
}
