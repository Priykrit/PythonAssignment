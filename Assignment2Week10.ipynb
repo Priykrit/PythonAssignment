{
 "cells": [
  {
   "cell_type": "markdown",
   "id": "d2b46e7d-8ddc-48cc-a143-f05243211cdc",
   "metadata": {},
   "source": [
    "## Que 1"
   ]
  },
  {
   "cell_type": "markdown",
   "id": "a4a9143a-0ff4-4d10-a022-28825770b301",
   "metadata": {},
   "source": [
    "* Mean: The mean is the average of a set of numbers. It is calculated by adding up all the numbers in the data set and then dividing by the total number of values. \n",
    "* Median: The median is the middle value in a data set when it is arranged in numerical order. If the data set has an odd number of values, the median is the middle value. If the data set has an even number of values, the median is the average of the two middle values.\n",
    "* Mode: The mode is the value that appears most frequently in a data set. A data set can have no mode (if all values are unique) or multiple modes (if multiple values have the same highest frequency)."
   ]
  },
  {
   "cell_type": "markdown",
   "id": "1ad5af79-b5e1-4f6d-b128-cbfb80b0cc43",
   "metadata": {},
   "source": [
    "## Que 2"
   ]
  },
  {
   "cell_type": "markdown",
   "id": "3e8fbf9b-aaa4-4538-ac87-eca4ca3abdeb",
   "metadata": {},
   "source": [
    "The choice of which measure to use depends on the nature of the data, the presence of outliers, and the specific insights we want to gain from the analysis.\n",
    "* Mean: The mean is the average of a set of numbers. It is calculated by adding up all the numbers in the data set and then dividing by the total number of values. \n",
    "* Median: The median is the middle value in a data set when it is arranged in numerical order. If the data set has an odd number of values, the median is the middle value. If the data set has an even number of values, the median is the average of the two middle values.\n",
    "* Mode: The mode is the value that appears most frequently in a data set. A data set can have no mode (if all values are unique) or multiple modes (if multiple values have the same highest frequency)."
   ]
  },
  {
   "cell_type": "markdown",
   "id": "4b270886-e7a5-4ef9-adab-a255d707650d",
   "metadata": {},
   "source": [
    "## Que 3"
   ]
  },
  {
   "cell_type": "code",
   "execution_count": 4,
   "id": "6d710e3e-4402-43b7-a021-8f41b86dae5b",
   "metadata": {},
   "outputs": [],
   "source": [
    "import numpy as np\n",
    "from scipy import stats as stats"
   ]
  },
  {
   "cell_type": "code",
   "execution_count": 2,
   "id": "7dbaf100-dc33-4b5d-9d57-d4c7f4ad7b98",
   "metadata": {},
   "outputs": [],
   "source": [
    "height = [178,177,176,177,178.2,178,175,179,180,175,178.9,176.2,177,172.5,178,176.5]"
   ]
  },
  {
   "cell_type": "code",
   "execution_count": 6,
   "id": "7b1c5673-bd8e-45a9-9982-c02eb196a79a",
   "metadata": {},
   "outputs": [
    {
     "name": "stdout",
     "output_type": "stream",
     "text": [
      "Mean 177.01875\n",
      "Median 177.0\n",
      "Mode [177.]\n"
     ]
    },
    {
     "name": "stderr",
     "output_type": "stream",
     "text": [
      "/tmp/ipykernel_77/3943900780.py:3: FutureWarning: Unlike other reduction functions (e.g. `skew`, `kurtosis`), the default behavior of `mode` typically preserves the axis it acts along. In SciPy 1.11.0, this behavior will change: the default value of `keepdims` will become False, the `axis` over which the statistic is taken will be eliminated, and the value None will no longer be accepted. Set `keepdims` to True or False to avoid this warning.\n",
      "  print(\"Mode\", stats.mode(height)[0])\n"
     ]
    }
   ],
   "source": [
    "print(\"Mean\", np.mean(height))\n",
    "print(\"Median\", np.median(height))\n",
    "print(\"Mode\", stats.mode(height)[0])"
   ]
  },
  {
   "cell_type": "markdown",
   "id": "06274d3e-6730-4867-9ea9-463287a19acd",
   "metadata": {},
   "source": [
    "## Que 4"
   ]
  },
  {
   "cell_type": "code",
   "execution_count": 7,
   "id": "6d670b94-fa7a-432e-888d-35597badb547",
   "metadata": {},
   "outputs": [
    {
     "name": "stdout",
     "output_type": "stream",
     "text": [
      "Std 1.7885814036548633\n"
     ]
    }
   ],
   "source": [
    "data = [178,177,176,177,178.2,178,175,179,180,175,178.9,176.2,177,172.5,178,176.5]\n",
    "print(\"Std\",np.std(data))"
   ]
  },
  {
   "cell_type": "markdown",
   "id": "fb7f265f-e968-4afb-ba38-cb709e2e119f",
   "metadata": {},
   "source": [
    "## Que 5"
   ]
  },
  {
   "cell_type": "markdown",
   "id": "eca631ed-6f64-4c01-9a8b-218fa44cfb49",
   "metadata": {},
   "source": [
    "Measures of dispersion, such as range, variance, and standard deviation, are used to quantify the spread or variability of data points within a dataset. They provide information about how closely or widely the data points are distributed around the central tendency (mean, median, or mode)\n",
    "\n",
    "Consider a dataset of exam scores: {75, 82, 90, 68, 95, 60}. The range is calculated as follows:\n",
    "Range = Highest Value - Lowest Value = 95 - 60 = 35.\n",
    "However, the range doesn't tell us much about the distribution of scores in between."
   ]
  },
  {
   "cell_type": "markdown",
   "id": "a51dbc93-4213-4785-9bf0-1aa1a587d094",
   "metadata": {},
   "source": [
    "## Que 6"
   ]
  },
  {
   "cell_type": "markdown",
   "id": "e76123e0-466e-4ef0-9784-071c5d835c20",
   "metadata": {},
   "source": [
    "A Venn diagram is a visual representation used to show the relationships between sets of elements. It consists of overlapping circles or other shapes, with each circle representing a different set and the overlapping regions representing the elements that belong to multiple sets."
   ]
  },
  {
   "cell_type": "markdown",
   "id": "a2f4f850-62a3-409a-9a63-8fd5921751e9",
   "metadata": {},
   "source": [
    "## Que 7"
   ]
  },
  {
   "cell_type": "code",
   "execution_count": 9,
   "id": "4f5333cc-b573-4f51-82a0-5109c542fa9b",
   "metadata": {},
   "outputs": [
    {
     "name": "stdout",
     "output_type": "stream",
     "text": [
      "Intersection {2, 6}\n",
      "Union {0, 2, 3, 4, 5, 6, 7, 8, 10}\n"
     ]
    }
   ],
   "source": [
    "A = set([2,3,4,5,6,7]) \n",
    "B = set([0,2,6,8,10])\n",
    "print(\"Intersection\",A.intersection(B))\n",
    "print(\"Union\",A.union(B))"
   ]
  },
  {
   "cell_type": "markdown",
   "id": "aecb13ca-fe8d-46c6-855c-72f2c7a3ef60",
   "metadata": {},
   "source": [
    "## Que 8"
   ]
  },
  {
   "cell_type": "markdown",
   "id": "be00375b-6e62-4f10-a101-8fdaaf3518c2",
   "metadata": {},
   "source": [
    "Skewness in data refers to the measure of asymmetry in the distribution of data points. A distribution is considered skewed when its tail (the elongated part) is stretched in one direction more than the other, causing it to deviate from a symmetrical bell-shaped curve. Skewed data can be either positively skewed (long tail on the right) or negatively skewed (long tail on the left). Skewness affects the mean, median, and mode, and understanding it helps in interpreting the shape and characteristics of a dataset's distribution."
   ]
  },
  {
   "cell_type": "markdown",
   "id": "429a499b-d010-4547-a252-bf9c012eb70a",
   "metadata": {},
   "source": [
    "## Que 9"
   ]
  },
  {
   "cell_type": "markdown",
   "id": "08c86b6d-80ad-49e1-aa72-a2902c2e635c",
   "metadata": {},
   "source": [
    "In a right-skewed distribution, the median will typically be less than the mean."
   ]
  },
  {
   "cell_type": "markdown",
   "id": "5091d54c-0a3e-45a6-b2bb-7780b17c87cb",
   "metadata": {},
   "source": [
    "## Que 10"
   ]
  },
  {
   "cell_type": "markdown",
   "id": "c5150691-04a4-4964-a81d-cfd265d4bde9",
   "metadata": {},
   "source": [
    "Covariance measures the degree to which two variables change together, indicating whether they move in the same direction or opposite directions. It can be positive (both variables increase together) or negative (one variable increases while the other decreases). However, covariance's value is not standardized and depends on the units of the variables, making it difficult to compare across different datasets.\n",
    "\n",
    "Correlation, on the other hand, is a standardized measure that quantifies the strength and direction of the linear relationship between two variables. It ranges from -1 to 1. A correlation of 1 indicates a perfect positive linear relationship, -1 indicates a perfect negative linear relationship, and 0 indicates no linear relationship.\n",
    "\n",
    "Covariance is used to understand the direction of relationship and variability between two variables. However, it doesn't provide a clear measure of the strength of the relationship and is sensitive to the units of measurement.\n",
    "\n",
    "Correlation is used to assess both the strength and direction of the linear relationship between two variables. It's valuable for comparing relationships across different datasets and for identifying whether variables are related even when their units differ."
   ]
  },
  {
   "cell_type": "markdown",
   "id": "7d905d53-8ddc-4898-8f07-8f31a528c32f",
   "metadata": {},
   "source": [
    "## Que 11"
   ]
  },
  {
   "cell_type": "markdown",
   "id": "e148ad37-ebc1-4110-9594-f5017d10e06a",
   "metadata": {},
   "source": [
    "Sample Mean (x̄) = (Sum of all data points) / (Number of data points)\n",
    "\n",
    "Example calculation:\n",
    "Consider the dataset: 12, 15, 18, 20, 22\n",
    "\n",
    "Sample Mean (x̄) = (12 + 15 + 18 + 20 + 22) / 5\n",
    "= 87 / 5\n",
    "= 17.4"
   ]
  },
  {
   "cell_type": "markdown",
   "id": "343e82c2-0081-49ae-96f1-bd88d66d1d0d",
   "metadata": {},
   "source": [
    "## Que 12"
   ]
  },
  {
   "cell_type": "markdown",
   "id": "74d07fef-6e83-41fe-a9c6-fadaa9ea54d9",
   "metadata": {},
   "source": [
    "In a normal distribution:\n",
    "* The mean, median, and mode are all located at the exact center of the distribution.\n",
    "* They are all equal to each other, resulting in a balanced distribution."
   ]
  },
  {
   "cell_type": "markdown",
   "id": "cd560aa7-7b57-4d9d-a2ae-e43e9dc611e4",
   "metadata": {},
   "source": [
    "## Que 13"
   ]
  },
  {
   "cell_type": "markdown",
   "id": "67cd9511-fd68-4924-8d5c-70a74b3c0f36",
   "metadata": {},
   "source": [
    "* Covariance is not scaled and its value depends on the units of the variables. Correlation is a standardized measure and its value ranges from -1 to 1, making it easier to interpret and compare across different datasets.\n",
    "* Covariance only indicates whether two variables change together (positive covariance) or in opposite directions (negative covariance). Correlation provides information about the strength and direction of the linear relationship between variables. It quantifies both the strength and nature of the relationship.\n",
    "* Covariance can take any value, positive or negative, and is unbounded. Correlation ranges from -1 to 1, with -1 indicating a perfect negative linear relationship, 1 indicating a perfect positive linear relationship, and 0 indicating no linear relationship."
   ]
  },
  {
   "cell_type": "markdown",
   "id": "acac5394-e34e-4e00-8540-dffd1fbe0798",
   "metadata": {},
   "source": [
    "## Que 14"
   ]
  },
  {
   "cell_type": "markdown",
   "id": "4458cad8-547a-409f-b55a-79c5b2aebff9",
   "metadata": {},
   "source": [
    "* Outliers can pull the mean towards their extreme values, distorting its representation. The median is less affected by outliers, making it a better choice in skewed datasets.\n",
    "* Outliers can inflate variance and standard deviation, as these measures consider squared deviations. Range can be greatly affected, as it depends on extreme values.\n",
    "\n",
    "Dataset: 10, 12, 14, 15, 18, 25 (with an outlier 100)\n",
    "\n",
    "Mean without outlier: (10 + 12 + 14 + 15 + 18 + 25) / 6 = 16\n",
    "Mean with outlier: (10 + 12 + 14 + 15 + 18 + 25 + 100) / 7 = 27.57\n",
    "\n",
    "Standard Deviation without outlier: ~5.11\n",
    "Standard Deviation with outlier: ~36.88"
   ]
  }
 ],
 "metadata": {
  "kernelspec": {
   "display_name": "Python 3 (ipykernel)",
   "language": "python",
   "name": "python3"
  },
  "language_info": {
   "codemirror_mode": {
    "name": "ipython",
    "version": 3
   },
   "file_extension": ".py",
   "mimetype": "text/x-python",
   "name": "python",
   "nbconvert_exporter": "python",
   "pygments_lexer": "ipython3",
   "version": "3.10.8"
  }
 },
 "nbformat": 4,
 "nbformat_minor": 5
}
