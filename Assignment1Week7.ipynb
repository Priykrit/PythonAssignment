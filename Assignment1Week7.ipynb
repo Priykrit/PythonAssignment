{
 "cells": [
  {
   "cell_type": "markdown",
   "id": "4a91a749-8df6-4d35-99da-bc78423de893",
   "metadata": {},
   "source": [
    "## Que 1"
   ]
  },
  {
   "cell_type": "markdown",
   "id": "fbeecba6-952a-48d7-8ca2-e3b8a4ae8e2c",
   "metadata": {},
   "source": [
    "Web scraping is extracting data from websites. It's used to gather information programmatically. \n",
    "\n",
    "Three uses:\n",
    "* Business intelligence\n",
    "* Research and analysis\n",
    "* Price comparison"
   ]
  },
  {
   "cell_type": "markdown",
   "id": "30cae4c8-676d-419e-b90a-4b41dcba9803",
   "metadata": {},
   "source": [
    "## Que 2"
   ]
  },
  {
   "cell_type": "markdown",
   "id": "1d8669e8-d679-4969-9131-388204cd9a16",
   "metadata": {},
   "source": [
    "Methods for web scraping:\n",
    "\n",
    "* Parsing HTML: Extracting data from the page's HTML structure.\n",
    "* APIs: Accessing data through APIs provided by websites.\n",
    "* Headless Browsers: Automating web browsers for data extraction."
   ]
  },
  {
   "cell_type": "markdown",
   "id": "b5e522fa-893e-4c53-921e-2a175f3efdc8",
   "metadata": {},
   "source": [
    "## Que 3"
   ]
  },
  {
   "cell_type": "markdown",
   "id": "6070c5c0-c554-43b1-ae4e-012ba86fbb2a",
   "metadata": {},
   "source": [
    "Beautiful Soup: Python library for parsing HTML and XML documents. Used for web scraping to extract and navigate data from web pages easily."
   ]
  },
  {
   "cell_type": "markdown",
   "id": "5198e8c5-bc26-430b-a2c1-999eda347a8f",
   "metadata": {},
   "source": [
    "## Que 4"
   ]
  },
  {
   "cell_type": "markdown",
   "id": "d4426b37-b74c-469a-b38e-87de0cc589fb",
   "metadata": {},
   "source": [
    "Flask used for web scraping projects to create web applications that can display and interact with scraped data. It helps in building user interfaces and serving scraped content."
   ]
  },
  {
   "cell_type": "markdown",
   "id": "50da4f03-fe7d-43e3-a111-d6a73e7c022d",
   "metadata": {},
   "source": [
    "## Que 5"
   ]
  },
  {
   "cell_type": "markdown",
   "id": "8455349f-59d9-45f9-960b-2e827c662529",
   "metadata": {},
   "source": [
    "AWS services used:\n",
    "\n",
    "* AWS CodePipeline: Continuous integration and delivery service. Automates code deployment and pipeline workflows.\n",
    "* AWS Elastic Beanstalk: Platform as a Service (PaaS) for deploying and managing applications. Simplifies deployment of web applications."
   ]
  }
 ],
 "metadata": {
  "kernelspec": {
   "display_name": "Python 3 (ipykernel)",
   "language": "python",
   "name": "python3"
  },
  "language_info": {
   "codemirror_mode": {
    "name": "ipython",
    "version": 3
   },
   "file_extension": ".py",
   "mimetype": "text/x-python",
   "name": "python",
   "nbconvert_exporter": "python",
   "pygments_lexer": "ipython3",
   "version": "3.10.8"
  }
 },
 "nbformat": 4,
 "nbformat_minor": 5
}
