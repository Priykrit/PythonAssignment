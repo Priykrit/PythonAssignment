{
 "cells": [
  {
   "cell_type": "markdown",
   "id": "f258b419-37e5-4d8e-b165-5aa1bc417447",
   "metadata": {},
   "source": [
    "## Que 1"
   ]
  },
  {
   "cell_type": "markdown",
   "id": "592b2d18-0362-4ae5-a198-b7b7bc6d9c2e",
   "metadata": {},
   "source": [
    "Probability Mass Function (PMF) is used for discrete random variables. It gives the probability of a specific value occurring.\n",
    "\n",
    "Probability Density Function (PDF) is used for continuous random variables. It gives the likelihood of a value occurring within a range, but not at a specific point.\n",
    "\n",
    "Example (Discrete):\n",
    "- Coin tosses: PMF gives probability of getting exactly k heads in n tosses.\n",
    "\n",
    "Example (Continuous):\n",
    "- Heights of people: PDF gives likelihood of a person having height between h and h + δh."
   ]
  },
  {
   "cell_type": "markdown",
   "id": "49e5f656-fc51-4618-8500-0d91224ae707",
   "metadata": {},
   "source": [
    "## Que 2"
   ]
  },
  {
   "cell_type": "markdown",
   "id": "808c8e11-114d-49d5-9a55-5f56f87ea1f2",
   "metadata": {},
   "source": [
    "Cumulative Density Function (CDF) gives the probability that a random variable takes on a value less than or equal to a given value.\n",
    "\n",
    "Example: Roll a fair six-sided die.\n",
    "- CDF(2) = P(X ≤ 2) = 2/6 = 1/3 (because 1 and 2 are the only values ≤ 2)\n",
    "\n",
    "CDF is used to:\n",
    "- Calculate probabilities for ranges of values.\n",
    "- Assess the likelihood of observing certain outcomes.\n",
    "- Calculate percentiles and quantiles of a distribution."
   ]
  },
  {
   "cell_type": "markdown",
   "id": "1de0744a-2dfc-468e-b676-800d442fb20d",
   "metadata": {},
   "source": [
    "## Que 3"
   ]
  },
  {
   "cell_type": "markdown",
   "id": "7341d9a6-cae4-4600-ac80-90cc53d6d12a",
   "metadata": {},
   "source": [
    "Examples of using the normal distribution as a model:\n",
    "1. Heights of individuals in a population.\n",
    "2. Errors in measurements.\n",
    "3. IQ scores in a population.\n",
    "\n",
    "Parameters of the normal distribution (μ = mean, σ = standard deviation):\n",
    "1. **Mean (μ)**: Center of the distribution. Determines the location of the peak.\n",
    "2. **Standard Deviation (σ)**: Spread of the distribution. Smaller σ leads to a narrower peak.\n",
    "\n",
    "- A larger σ results in a flatter distribution with wider tails.\n",
    "- μ shifts the entire distribution left or right, while σ controls its width."
   ]
  },
  {
   "cell_type": "markdown",
   "id": "a51f0777-7f2a-4fd2-a5f0-c06a9605fff9",
   "metadata": {},
   "source": [
    "## Que 4"
   ]
  },
  {
   "cell_type": "markdown",
   "id": "55d3274c-b52c-49cb-ac1c-fd5ad89dcbf2",
   "metadata": {},
   "source": [
    "Normal distribution is important because:\n",
    "1. Many natural phenomena follow it due to the central limit theorem.\n",
    "2. Allows statistical inference and hypothesis testing.\n",
    "3. Common assumption in data analysis and modeling.\n",
    "\n",
    "Examples of Normal Distribution in real life:\n",
    "1. **Height of individuals**: In a large population, heights tend to follow a normal distribution.\n",
    "2. **Exam scores**: Scores on well-designed exams often exhibit a normal distribution.\n",
    "3. **Measurement errors**: Errors in measurements, like in laboratory equipment, often approximate a normal distribution.\n",
    "4. **IQ scores**: Intelligence quotient scores across a large population often approximate a normal distribution.\n",
    "5. **Financial returns**: Daily stock market returns can exhibit behavior similar to a normal distribution.\n",
    "6. **Physical measurements**: Measurements like weights of products from manufacturing processes can often be modeled as normally distributed."
   ]
  },
  {
   "cell_type": "markdown",
   "id": "9404cb36-37b4-4760-a3f7-a54c86600028",
   "metadata": {},
   "source": [
    "## Que 5"
   ]
  },
  {
   "cell_type": "markdown",
   "id": "e3591986-0523-47fc-93f0-38d238a42fb4",
   "metadata": {},
   "source": [
    "Bernoulli Distribution:\n",
    "- Describes a single binary (yes/no, success/failure) random event.\n",
    "- Parameter: p (probability of success).\n",
    "\n",
    "Example: Coin toss (Heads or Tails).\n",
    "\n",
    "Difference between Bernoulli and Binomial Distribution:\n",
    "- Bernoulli is for a single event; Binomial is for a series of independent events.\n",
    "- Binomial has two parameters: n (number of trials) and p (probability of success).\n",
    "- Bernoulli is a special case of Binomial with n = 1.\n",
    "- Binomial gives the probability of getting exactly k successes in n trials."
   ]
  },
  {
   "cell_type": "markdown",
   "id": "feb8b894-fe8b-4f60-bf63-77694e3c5ef8",
   "metadata": {},
   "source": [
    "## Que 6"
   ]
  },
  {
   "cell_type": "markdown",
   "id": "2d5b7f82-8e29-4ce0-9fd8-97ceea668d94",
   "metadata": {},
   "source": [
    "To calculate the probability that a randomly selected observation is greater than 60 from a normal distribution with mean (μ) 50 and standard deviation (σ) 10, we can use the standard normal distribution (Z-score) formula and the cumulative distribution function (CDF) of the standard normal distribution.\n",
    "\n",
    "First, calculate the Z-score:\n",
    "Z = (X - μ) / σ\n",
    "Z = (60 - 50) / 10\n",
    "Z = 1\n",
    "\n",
    "Then, use the CDF of the standard normal distribution to find the probability:\n",
    "P(X > 60) = 1 - P(X ≤ 60)\n",
    "P(Z > 1) = 1 - 0.8413 (using standard normal distribution table or calculator)\n",
    "P(X > 60) = 0.1587\n",
    "\n",
    "So, the probability that a randomly selected observation will be greater than 60 is approximately 0.1587 or 15.87%."
   ]
  },
  {
   "cell_type": "markdown",
   "id": "9a23dde1-0247-4387-8df6-98f1a7df0048",
   "metadata": {},
   "source": [
    "## Que 7"
   ]
  },
  {
   "cell_type": "markdown",
   "id": "65aa0efd-3b00-433e-bd8a-c33cdaf7280e",
   "metadata": {},
   "source": [
    "Uniform Distribution:\n",
    "- All values within a specified range are equally likely to occur.\n",
    "- Probability density is constant within the range.\n",
    "\n",
    "Example: Rolling a fair six-sided die.\n",
    "- Each number (1 to 6) has equal chance of being rolled.\n",
    "- Probability of rolling any specific number is 1/6.\n",
    "- Probability density is uniform across the numbers."
   ]
  },
  {
   "cell_type": "markdown",
   "id": "7397c8d0-9311-4f37-9fcf-e6e5d7265f63",
   "metadata": {},
   "source": [
    "## Que 8"
   ]
  },
  {
   "cell_type": "markdown",
   "id": "aa8e23ba-3e3b-4c6c-b3dc-0b6e412043a5",
   "metadata": {},
   "source": [
    "Z-score:\n",
    "- Also known as standard score.\n",
    "- Measures how many standard deviations a data point is from the mean in a standard normal distribution.\n",
    "\n",
    "Importance of Z-score:\n",
    "- Allows comparison of values from different normal distributions.\n",
    "- Indicates how unusual or typical a data point is within its distribution.\n",
    "- Used in hypothesis testing, outlier detection, and data standardization."
   ]
  },
  {
   "cell_type": "markdown",
   "id": "17efdd12-bef8-458f-b485-c5013e341072",
   "metadata": {},
   "source": [
    "## Que 9"
   ]
  },
  {
   "cell_type": "markdown",
   "id": "1cf2c847-33e0-48bb-8981-aeb8762d2aa9",
   "metadata": {},
   "source": [
    "Central Limit Theorem:\n",
    "- States that the sum (or average) of a large number of independent and identically distributed random variables approaches a normal distribution, regardless of the original distribution's shape.\n",
    "\n",
    "Significance of Central Limit Theorem:\n",
    "- Foundation for statistical inference and hypothesis testing.\n",
    "- Explains why normal distribution is prevalent in nature.\n",
    "- Allows us to make approximations and assumptions about sample means and sums in various fields.\n",
    "- Justifies using normal distribution-based techniques even when the original data isn't normally distributed."
   ]
  },
  {
   "cell_type": "markdown",
   "id": "c131a8a1-1892-4914-a464-5b42613f6e35",
   "metadata": {},
   "source": [
    "## Que 10"
   ]
  },
  {
   "cell_type": "markdown",
   "id": "44c45d1f-87c0-41a5-b565-55aa16508b71",
   "metadata": {},
   "source": [
    "Assumptions of the Central Limit Theorem:\n",
    "1. **Independence**: The random variables being summed or averaged are independent of each other.\n",
    "2. **Identical Distribution**: The random variables have the same distribution.\n",
    "3. **Finite Variance**: The random variables have finite variance (not infinite).\n",
    "4. **Sample Size**: The sample size is sufficiently large. The larger the sample, the better the approximation to normality."
   ]
  }
 ],
 "metadata": {
  "kernelspec": {
   "display_name": "Python 3 (ipykernel)",
   "language": "python",
   "name": "python3"
  },
  "language_info": {
   "codemirror_mode": {
    "name": "ipython",
    "version": 3
   },
   "file_extension": ".py",
   "mimetype": "text/x-python",
   "name": "python",
   "nbconvert_exporter": "python",
   "pygments_lexer": "ipython3",
   "version": "3.10.8"
  }
 },
 "nbformat": 4,
 "nbformat_minor": 5
}
