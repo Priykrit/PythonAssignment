{
 "cells": [
  {
   "cell_type": "markdown",
   "id": "354aa018-23a3-4d00-a84f-60c1b1689b66",
   "metadata": {},
   "source": [
    "## Que 1"
   ]
  },
  {
   "cell_type": "code",
   "execution_count": 1,
   "id": "2f6f2c81-baa0-40e6-b0a4-490dacf37227",
   "metadata": {},
   "outputs": [
    {
     "data": {
      "text/plain": [
       "str"
      ]
     },
     "execution_count": 1,
     "metadata": {},
     "output_type": "execute_result"
    }
   ],
   "source": [
    "s = \"Priykrit\"\n",
    "type(s)"
   ]
  },
  {
   "cell_type": "code",
   "execution_count": 2,
   "id": "c5b8524e-74da-41c1-b11d-7a20525fc0af",
   "metadata": {},
   "outputs": [
    {
     "data": {
      "text/plain": [
       "list"
      ]
     },
     "execution_count": 2,
     "metadata": {},
     "output_type": "execute_result"
    }
   ],
   "source": [
    "l = [1,2,3,\"Hello\",23.4]\n",
    "type(l)"
   ]
  },
  {
   "cell_type": "code",
   "execution_count": 3,
   "id": "a71f8ee9-a15f-414c-ac59-7a4b11d57028",
   "metadata": {},
   "outputs": [
    {
     "data": {
      "text/plain": [
       "float"
      ]
     },
     "execution_count": 3,
     "metadata": {},
     "output_type": "execute_result"
    }
   ],
   "source": [
    "f = 23.4\n",
    "type(f)"
   ]
  },
  {
   "cell_type": "code",
   "execution_count": 4,
   "id": "2fae04b6-6350-48a2-ad26-15e16ea3632a",
   "metadata": {},
   "outputs": [
    {
     "data": {
      "text/plain": [
       "tuple"
      ]
     },
     "execution_count": 4,
     "metadata": {},
     "output_type": "execute_result"
    }
   ],
   "source": [
    "t = (\"Hi\",\"Hello\",\"Bye\")\n",
    "type(t)"
   ]
  },
  {
   "cell_type": "markdown",
   "id": "ebbdd280-8d8c-4dcc-a5e0-21a04c36a0cd",
   "metadata": {},
   "source": [
    "## Que 2\n",
    "1) String\n",
    "2) String\n",
    "3) List\n",
    "4) Float"
   ]
  },
  {
   "cell_type": "code",
   "execution_count": 5,
   "id": "538269cf-df72-4100-bc06-c613d6797ba1",
   "metadata": {},
   "outputs": [
    {
     "data": {
      "text/plain": [
       "str"
      ]
     },
     "execution_count": 5,
     "metadata": {},
     "output_type": "execute_result"
    }
   ],
   "source": [
    "var1 = ''\n",
    "type(var1)"
   ]
  },
  {
   "cell_type": "code",
   "execution_count": 6,
   "id": "2e301bc6-a330-478c-84bc-cf93e62f2040",
   "metadata": {},
   "outputs": [
    {
     "data": {
      "text/plain": [
       "str"
      ]
     },
     "execution_count": 6,
     "metadata": {},
     "output_type": "execute_result"
    }
   ],
   "source": [
    "var2 = '[ DS , ML , Python]'\n",
    "type(var2)"
   ]
  },
  {
   "cell_type": "code",
   "execution_count": 7,
   "id": "1643e5ae-3548-4536-8007-d194cfb4ecf1",
   "metadata": {},
   "outputs": [
    {
     "data": {
      "text/plain": [
       "list"
      ]
     },
     "execution_count": 7,
     "metadata": {},
     "output_type": "execute_result"
    }
   ],
   "source": [
    "var3 = [ 'DS' , 'ML' , 'Python' ]\n",
    "type(var3)"
   ]
  },
  {
   "cell_type": "code",
   "execution_count": 8,
   "id": "ef846bcd-23db-4033-a8f1-81cae9860983",
   "metadata": {},
   "outputs": [
    {
     "data": {
      "text/plain": [
       "float"
      ]
     },
     "execution_count": 8,
     "metadata": {},
     "output_type": "execute_result"
    }
   ],
   "source": [
    "var4 = 1.\n",
    "type(var4)"
   ]
  },
  {
   "cell_type": "markdown",
   "id": "43e62afc-fea4-4914-8613-3886c647e5de",
   "metadata": {},
   "source": [
    "## Que 3"
   ]
  },
  {
   "cell_type": "code",
   "execution_count": 10,
   "id": "4f56b781-00d3-4b09-996e-0130a5485919",
   "metadata": {},
   "outputs": [
    {
     "data": {
      "text/plain": [
       "2.0"
      ]
     },
     "execution_count": 10,
     "metadata": {},
     "output_type": "execute_result"
    }
   ],
   "source": [
    "# / is floating point divison operator\n",
    "a = 4/2\n",
    "a"
   ]
  },
  {
   "cell_type": "code",
   "execution_count": 11,
   "id": "43b8b8c0-b432-4c4e-b976-af5082c63229",
   "metadata": {},
   "outputs": [
    {
     "data": {
      "text/plain": [
       "2"
      ]
     },
     "execution_count": 11,
     "metadata": {},
     "output_type": "execute_result"
    }
   ],
   "source": [
    "# % is modulus operator used to get remainder \n",
    "b = 47%3\n",
    "b"
   ]
  },
  {
   "cell_type": "code",
   "execution_count": 12,
   "id": "fab5e350-fb89-49ff-868d-c8630bed16b0",
   "metadata": {},
   "outputs": [
    {
     "data": {
      "text/plain": [
       "2"
      ]
     },
     "execution_count": 12,
     "metadata": {},
     "output_type": "execute_result"
    }
   ],
   "source": [
    "# // is floor divison operator\n",
    "c = 7//3\n",
    "c"
   ]
  },
  {
   "cell_type": "code",
   "execution_count": 14,
   "id": "78a1948e-9f22-4203-ae6c-ba48fb72dd14",
   "metadata": {},
   "outputs": [
    {
     "data": {
      "text/plain": [
       "64"
      ]
     },
     "execution_count": 14,
     "metadata": {},
     "output_type": "execute_result"
    }
   ],
   "source": [
    "# ** is power opeator used to rasie number to a power\n",
    "d = 4**3\n",
    "d"
   ]
  },
  {
   "cell_type": "markdown",
   "id": "55c8a26e-d430-4155-864e-b5ae62a6f167",
   "metadata": {},
   "source": [
    "## Que 4"
   ]
  },
  {
   "cell_type": "code",
   "execution_count": 19,
   "id": "14d59ca7-0c41-4b91-a706-0ad45ce20a07",
   "metadata": {},
   "outputs": [
    {
     "name": "stdout",
     "output_type": "stream",
     "text": [
      "1 <class 'int'>\n",
      "2 <class 'int'>\n",
      "3 <class 'int'>\n",
      "4.5 <class 'float'>\n",
      "5 <class 'int'>\n",
      "6 <class 'int'>\n",
      "7 <class 'int'>\n",
      "Hello <class 'str'>\n",
      "False <class 'bool'>\n",
      "10 <class 'int'>\n"
     ]
    }
   ],
   "source": [
    "ls = [1,2,3,4.5,5,6,7,'Hello',False,10]\n",
    "for i in ls:\n",
    "    print(str(i) +\" \"+str(type(i)))"
   ]
  },
  {
   "cell_type": "markdown",
   "id": "452e7177-de43-44bf-a8f2-8f61de7baf3e",
   "metadata": {},
   "source": [
    "## Que 5"
   ]
  },
  {
   "cell_type": "code",
   "execution_count": 30,
   "id": "664ad095-0aae-4ee0-a4a5-39d014e95532",
   "metadata": {},
   "outputs": [
    {
     "name": "stdin",
     "output_type": "stream",
     "text": [
      "Enter Number at A:  32\n",
      "Enter Number at B:  2\n"
     ]
    },
    {
     "name": "stdout",
     "output_type": "stream",
     "text": [
      "The number A is purely divisible by number B and 4 times\n"
     ]
    }
   ],
   "source": [
    "A = int(input(\"Enter Number at A: \"))\n",
    "B = int(input(\"Enter Number at B: \"))\n",
    "i=0\n",
    "while(A>B):\n",
    "    if(A%B==0):\n",
    "        A/=B\n",
    "        i+=1\n",
    "    else:\n",
    "        if(i>0):\n",
    "            print(\"The number A is purely divisible by number B and only divisible by \"+str(i)+\" times\")\n",
    "        else:\n",
    "            print(\"The number A not is purely divisible by number B\")\n",
    "        break\n",
    "else:\n",
    "    print(\"The number A is purely divisible by number B and \"+str(i)+\" times\")"
   ]
  },
  {
   "cell_type": "markdown",
   "id": "4c074502-df08-4039-9435-e5c6899043a7",
   "metadata": {},
   "source": [
    "## Que 6"
   ]
  },
  {
   "cell_type": "code",
   "execution_count": 31,
   "id": "e05750ee-15dc-4764-8bb5-592f8119c464",
   "metadata": {},
   "outputs": [
    {
     "name": "stdout",
     "output_type": "stream",
     "text": [
      "1 is not divisible by 3\n",
      "2 is not divisible by 3\n",
      "3 is divisible by 3\n",
      "4 is not divisible by 3\n",
      "5 is not divisible by 3\n",
      "6 is divisible by 3\n",
      "7 is not divisible by 3\n",
      "8 is not divisible by 3\n",
      "9 is divisible by 3\n",
      "10 is not divisible by 3\n",
      "11 is not divisible by 3\n",
      "12 is divisible by 3\n",
      "13 is not divisible by 3\n",
      "14 is not divisible by 3\n",
      "15 is divisible by 3\n",
      "16 is not divisible by 3\n",
      "17 is not divisible by 3\n",
      "18 is divisible by 3\n",
      "19 is not divisible by 3\n",
      "20 is not divisible by 3\n",
      "21 is divisible by 3\n",
      "22 is not divisible by 3\n",
      "23 is not divisible by 3\n",
      "24 is divisible by 3\n",
      "25 is not divisible by 3\n"
     ]
    }
   ],
   "source": [
    "lt = list(range(1,26))\n",
    "for i in lt:\n",
    "    if(i%3==0):\n",
    "        print(str(i)+' is divisible by 3')\n",
    "    else:\n",
    "        print(str(i)+' is not divisible by 3')"
   ]
  },
  {
   "cell_type": "markdown",
   "id": "f730a301-4eef-4be5-a06a-0587c004618e",
   "metadata": {},
   "source": [
    "## Que 7"
   ]
  },
  {
   "cell_type": "raw",
   "id": "11918fca-2f1c-48ab-ab81-8ec49c06666e",
   "metadata": {},
   "source": [
    "Mutable data types are data types that allows data in them to be changed. Example list, int, float, etc. Where as Immutable data types are data types that does not allows data in them to be changed. Example string ,tuple, etc."
   ]
  },
  {
   "cell_type": "code",
   "execution_count": 39,
   "id": "93460696-f296-41f6-a99b-93d299c2fc4c",
   "metadata": {},
   "outputs": [
    {
     "data": {
      "text/plain": [
       "5"
      ]
     },
     "execution_count": 39,
     "metadata": {},
     "output_type": "execute_result"
    }
   ],
   "source": [
    "lst = [4,5,6]\n",
    "lst[1]"
   ]
  },
  {
   "cell_type": "code",
   "execution_count": 40,
   "id": "3ded144b-5629-41a1-8371-09ff3a8fb785",
   "metadata": {},
   "outputs": [
    {
     "data": {
      "text/plain": [
       "[4, 10, 6]"
      ]
     },
     "execution_count": 40,
     "metadata": {},
     "output_type": "execute_result"
    }
   ],
   "source": [
    "lst[1]=10\n",
    "lst"
   ]
  },
  {
   "cell_type": "code",
   "execution_count": 41,
   "id": "e487a447-74c6-46db-b1c8-9ea042001a3c",
   "metadata": {},
   "outputs": [
    {
     "data": {
      "text/plain": [
       "'y'"
      ]
     },
     "execution_count": 41,
     "metadata": {},
     "output_type": "execute_result"
    }
   ],
   "source": [
    "s = \"Priykrit\"\n",
    "s[3]"
   ]
  },
  {
   "cell_type": "code",
   "execution_count": 42,
   "id": "0ffddcbd-fa13-40e6-a4e3-32518aa0d5a6",
   "metadata": {},
   "outputs": [
    {
     "ename": "TypeError",
     "evalue": "'str' object does not support item assignment",
     "output_type": "error",
     "traceback": [
      "\u001b[0;31m---------------------------------------------------------------------------\u001b[0m",
      "\u001b[0;31mTypeError\u001b[0m                                 Traceback (most recent call last)",
      "Cell \u001b[0;32mIn[42], line 1\u001b[0m\n\u001b[0;32m----> 1\u001b[0m \u001b[43ms\u001b[49m\u001b[43m[\u001b[49m\u001b[38;5;241;43m3\u001b[39;49m\u001b[43m]\u001b[49m\u001b[38;5;241m=\u001b[39m\u001b[38;5;124m'\u001b[39m\u001b[38;5;124mt\u001b[39m\u001b[38;5;124m'\u001b[39m\n",
      "\u001b[0;31mTypeError\u001b[0m: 'str' object does not support item assignment"
     ]
    }
   ],
   "source": [
    "s[3]='t'"
   ]
  },
  {
   "cell_type": "code",
   "execution_count": null,
   "id": "b7074bef-e0d4-418c-ad1b-ca12fb6492d2",
   "metadata": {},
   "outputs": [],
   "source": []
  }
 ],
 "metadata": {
  "kernelspec": {
   "display_name": "Python 3 (ipykernel)",
   "language": "python",
   "name": "python3"
  },
  "language_info": {
   "codemirror_mode": {
    "name": "ipython",
    "version": 3
   },
   "file_extension": ".py",
   "mimetype": "text/x-python",
   "name": "python",
   "nbconvert_exporter": "python",
   "pygments_lexer": "ipython3",
   "version": "3.10.8"
  }
 },
 "nbformat": 4,
 "nbformat_minor": 5
}
