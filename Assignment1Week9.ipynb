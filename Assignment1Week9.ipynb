{
 "cells": [
  {
   "cell_type": "code",
   "execution_count": 1,
   "id": "4cabfb4b-9d64-45e2-b181-189338afa7b4",
   "metadata": {},
   "outputs": [],
   "source": [
    "import pandas as pd"
   ]
  },
  {
   "cell_type": "markdown",
   "id": "86b5e315-0b0e-4d00-b42b-206dca48d919",
   "metadata": {},
   "source": [
    "## Que 1"
   ]
  },
  {
   "cell_type": "code",
   "execution_count": 2,
   "id": "7699de48-7d61-4d71-a1eb-2d0b5df872a6",
   "metadata": {},
   "outputs": [
    {
     "data": {
      "text/plain": [
       "0     4\n",
       "1     8\n",
       "2    15\n",
       "3    16\n",
       "4    23\n",
       "5    42\n",
       "dtype: int64"
      ]
     },
     "execution_count": 2,
     "metadata": {},
     "output_type": "execute_result"
    }
   ],
   "source": [
    "pd.Series([4, 8, 15, 16, 23,42])"
   ]
  },
  {
   "cell_type": "markdown",
   "id": "0ad9a165-2a5e-4f1f-b9d9-5431b476ac54",
   "metadata": {},
   "source": [
    "## Que 2"
   ]
  },
  {
   "cell_type": "code",
   "execution_count": 3,
   "id": "36a84cdb-ea62-4137-ae84-f76462696b87",
   "metadata": {},
   "outputs": [
    {
     "name": "stdout",
     "output_type": "stream",
     "text": [
      "0     1\n",
      "1     2\n",
      "2     3\n",
      "3     4\n",
      "4     5\n",
      "5     6\n",
      "6     7\n",
      "7     8\n",
      "8     9\n",
      "9    10\n",
      "dtype: int64\n"
     ]
    }
   ],
   "source": [
    "l = [1,2,3,4,5,6,7,8,9,10]\n",
    "s = pd.Series(l)\n",
    "print(s)"
   ]
  },
  {
   "cell_type": "markdown",
   "id": "6de06c90-86e1-489a-8c4b-ef05b81162a7",
   "metadata": {},
   "source": [
    "## Que 3"
   ]
  },
  {
   "cell_type": "code",
   "execution_count": 4,
   "id": "7ebf799f-ff59-48dd-8bdc-1a0c239276f2",
   "metadata": {},
   "outputs": [],
   "source": [
    "data = {\"name\":[\"Alice\",\"Bob\",\"Claire\"],\"Age\":[25,30,27],\"Gender\":[\"Female\",\"Male\",\"Female\"]}"
   ]
  },
  {
   "cell_type": "code",
   "execution_count": 5,
   "id": "6068f51c-48ff-41af-a010-be0f4b345af2",
   "metadata": {},
   "outputs": [],
   "source": [
    "df1 = pd.DataFrame(data) "
   ]
  },
  {
   "cell_type": "code",
   "execution_count": 7,
   "id": "c8d82547-5254-4fa4-8131-7a5143eae798",
   "metadata": {},
   "outputs": [
    {
     "name": "stdout",
     "output_type": "stream",
     "text": [
      "     name  Age  Gender\n",
      "0   Alice   25  Female\n",
      "1     Bob   30    Male\n",
      "2  Claire   27  Female\n"
     ]
    }
   ],
   "source": [
    "print(df1)"
   ]
  },
  {
   "cell_type": "markdown",
   "id": "bbc663c0-7c38-4a99-9f0c-0b48dc4a274b",
   "metadata": {},
   "source": [
    "## Que 4"
   ]
  },
  {
   "cell_type": "markdown",
   "id": "47cb2c34-6f83-4230-a9dd-dbdda7324815",
   "metadata": {},
   "source": [
    "DataFrame is a two-dimensional labeled data structure that is widely used for data manipulation and analysis. It can be thought of as a table-like structure, similar to a spreadsheet or a SQL table, where data is organized in rows and columns.\n",
    "\n",
    "Series is a one-dimensional labeled array, somewhat similar to a single column of a DataFrame. It can hold data of any type and also has an associated index."
   ]
  },
  {
   "cell_type": "code",
   "execution_count": 8,
   "id": "133096fa-63df-41db-b198-0d8f0494e53a",
   "metadata": {},
   "outputs": [
    {
     "data": {
      "text/html": [
       "<div>\n",
       "<style scoped>\n",
       "    .dataframe tbody tr th:only-of-type {\n",
       "        vertical-align: middle;\n",
       "    }\n",
       "\n",
       "    .dataframe tbody tr th {\n",
       "        vertical-align: top;\n",
       "    }\n",
       "\n",
       "    .dataframe thead th {\n",
       "        text-align: right;\n",
       "    }\n",
       "</style>\n",
       "<table border=\"1\" class=\"dataframe\">\n",
       "  <thead>\n",
       "    <tr style=\"text-align: right;\">\n",
       "      <th></th>\n",
       "      <th>name</th>\n",
       "      <th>Age</th>\n",
       "      <th>Gender</th>\n",
       "    </tr>\n",
       "  </thead>\n",
       "  <tbody>\n",
       "    <tr>\n",
       "      <th>0</th>\n",
       "      <td>Alice</td>\n",
       "      <td>25</td>\n",
       "      <td>Female</td>\n",
       "    </tr>\n",
       "    <tr>\n",
       "      <th>1</th>\n",
       "      <td>Bob</td>\n",
       "      <td>30</td>\n",
       "      <td>Male</td>\n",
       "    </tr>\n",
       "    <tr>\n",
       "      <th>2</th>\n",
       "      <td>Claire</td>\n",
       "      <td>27</td>\n",
       "      <td>Female</td>\n",
       "    </tr>\n",
       "  </tbody>\n",
       "</table>\n",
       "</div>"
      ],
      "text/plain": [
       "     name  Age  Gender\n",
       "0   Alice   25  Female\n",
       "1     Bob   30    Male\n",
       "2  Claire   27  Female"
      ]
     },
     "execution_count": 8,
     "metadata": {},
     "output_type": "execute_result"
    }
   ],
   "source": [
    "#DataFrame\n",
    "data = {\"name\":[\"Alice\",\"Bob\",\"Claire\"],\"Age\":[25,30,27],\"Gender\":[\"Female\",\"Male\",\"Female\"]}\n",
    "df1 = pd.DataFrame(data) \n",
    "df1"
   ]
  },
  {
   "cell_type": "code",
   "execution_count": 9,
   "id": "e6ed6ce0-a2e1-454f-aff3-f72457c00aa5",
   "metadata": {},
   "outputs": [
    {
     "data": {
      "text/plain": [
       "0    25\n",
       "1    30\n",
       "2    27\n",
       "Name: Age, dtype: int64"
      ]
     },
     "execution_count": 9,
     "metadata": {},
     "output_type": "execute_result"
    }
   ],
   "source": [
    "age_series = df1['Age']\n",
    "age_series"
   ]
  },
  {
   "cell_type": "markdown",
   "id": "5aefdcee-9fd3-47b0-8967-294a37f1284d",
   "metadata": {},
   "source": [
    "## Que 5"
   ]
  },
  {
   "cell_type": "markdown",
   "id": "dd29187e-fe99-46bb-abca-5f5379c983ef",
   "metadata": {},
   "source": [
    "1. Filtering Data\n",
    "2. Sorting Data\n",
    "3. Grouping and Aggregation\n",
    "4. Adding and Dropping Columns\n",
    "5. Handling Missing Data\n",
    "\n",
    "Example - We have some missing age values, and you want to replace them with the median age."
   ]
  },
  {
   "cell_type": "markdown",
   "id": "17ecfcba-bb62-440f-8adf-a97b362ac1e7",
   "metadata": {},
   "source": [
    "## Que 6"
   ]
  },
  {
   "cell_type": "markdown",
   "id": "676e4aa7-0693-4b62-8a3d-7a9f7c993a9e",
   "metadata": {},
   "source": [
    "Series and DataFrame are mutable, while Panel is not.\n",
    "\n",
    "Panel used to be a three-dimensional data structure in pandas, but it has been deprecated and removed in favor of using MultiIndex within a DataFrame to handle higher-dimensional data. Panel was not as widely used and was less flexible compared to Series and DataFrame"
   ]
  },
  {
   "cell_type": "markdown",
   "id": "88ee5929-8ebd-4d01-bc88-6e83723ca03f",
   "metadata": {},
   "source": [
    "## Que "
   ]
  }
 ],
 "metadata": {
  "kernelspec": {
   "display_name": "Python 3 (ipykernel)",
   "language": "python",
   "name": "python3"
  },
  "language_info": {
   "codemirror_mode": {
    "name": "ipython",
    "version": 3
   },
   "file_extension": ".py",
   "mimetype": "text/x-python",
   "name": "python",
   "nbconvert_exporter": "python",
   "pygments_lexer": "ipython3",
   "version": "3.10.8"
  }
 },
 "nbformat": 4,
 "nbformat_minor": 5
}
