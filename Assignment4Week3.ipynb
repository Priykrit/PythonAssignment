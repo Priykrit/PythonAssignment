{
 "cells": [
  {
   "cell_type": "markdown",
   "id": "c105233b-da6f-4137-94c3-e1c3c9a57b71",
   "metadata": {},
   "source": [
    "### Que 1"
   ]
  },
  {
   "cell_type": "code",
   "execution_count": 1,
   "id": "eadb1f83-22dd-4449-b01c-92d70a88aa7a",
   "metadata": {},
   "outputs": [],
   "source": [
    "l = [('Sachin Tendulkar', 34357), ('Ricky Ponting', 27483), ('Jack Kallis', 25534), ('Virat Kohli', 24936)]"
   ]
  },
  {
   "cell_type": "code",
   "execution_count": 2,
   "id": "f3578a9a-0e13-48b3-90f8-be193b0b6162",
   "metadata": {},
   "outputs": [],
   "source": [
    "l.sort(key=lambda x : x[1])"
   ]
  },
  {
   "cell_type": "code",
   "execution_count": 3,
   "id": "56485909-1fa5-4d9b-aa83-82af9a0c397e",
   "metadata": {},
   "outputs": [
    {
     "data": {
      "text/plain": [
       "[('Virat Kohli', 24936),\n",
       " ('Jack Kallis', 25534),\n",
       " ('Ricky Ponting', 27483),\n",
       " ('Sachin Tendulkar', 34357)]"
      ]
     },
     "execution_count": 3,
     "metadata": {},
     "output_type": "execute_result"
    }
   ],
   "source": [
    "l"
   ]
  },
  {
   "cell_type": "markdown",
   "id": "459bdeb9-1187-45af-b3ed-d43cd2117d0c",
   "metadata": {},
   "source": [
    "### Que 2"
   ]
  },
  {
   "cell_type": "code",
   "execution_count": 4,
   "id": "629b9776-cbd9-47c9-b2d5-d1faef9aaf6f",
   "metadata": {},
   "outputs": [],
   "source": [
    "l=[1, 2, 3, 4, 5, 6, 7, 8, 9, 10]"
   ]
  },
  {
   "cell_type": "code",
   "execution_count": 6,
   "id": "aeb74357-62d6-40cc-b43a-6054033ee60b",
   "metadata": {},
   "outputs": [
    {
     "data": {
      "text/plain": [
       "[1, 4, 9, 16, 25, 36, 49, 64, 81, 100]"
      ]
     },
     "execution_count": 6,
     "metadata": {},
     "output_type": "execute_result"
    }
   ],
   "source": [
    "list(map(lambda x : x**2,l))"
   ]
  },
  {
   "cell_type": "markdown",
   "id": "f986185f-744d-4940-9be2-416a0e3d4b5d",
   "metadata": {},
   "source": [
    "### Que 3 "
   ]
  },
  {
   "cell_type": "code",
   "execution_count": 7,
   "id": "3b95c962-88a7-4e6a-bee5-fcbe4af0cd50",
   "metadata": {},
   "outputs": [],
   "source": [
    "s = [1, 2, 3, 4, 5, 6, 7, 8, 9, 10]"
   ]
  },
  {
   "cell_type": "code",
   "execution_count": 8,
   "id": "39b7953f-3efa-40ee-951d-6f59b716fb43",
   "metadata": {},
   "outputs": [
    {
     "data": {
      "text/plain": [
       "('1', '2', '3', '4', '5', '6', '7', '8', '9', '10')"
      ]
     },
     "execution_count": 8,
     "metadata": {},
     "output_type": "execute_result"
    }
   ],
   "source": [
    "tuple(map(lambda x : str(x),s))"
   ]
  },
  {
   "cell_type": "markdown",
   "id": "872c271f-2933-4044-875e-589c242d8618",
   "metadata": {},
   "source": [
    "### Que 4"
   ]
  },
  {
   "cell_type": "code",
   "execution_count": 10,
   "id": "f7753ad5-5f9a-4acb-ab5c-38a17675b453",
   "metadata": {},
   "outputs": [
    {
     "data": {
      "text/plain": [
       "[1,\n",
       " 2,\n",
       " 3,\n",
       " 4,\n",
       " 5,\n",
       " 6,\n",
       " 7,\n",
       " 8,\n",
       " 9,\n",
       " 10,\n",
       " 11,\n",
       " 12,\n",
       " 13,\n",
       " 14,\n",
       " 15,\n",
       " 16,\n",
       " 17,\n",
       " 18,\n",
       " 19,\n",
       " 20,\n",
       " 21,\n",
       " 22,\n",
       " 23,\n",
       " 24,\n",
       " 25]"
      ]
     },
     "execution_count": 10,
     "metadata": {},
     "output_type": "execute_result"
    }
   ],
   "source": [
    "lst = list(range(1,26))\n",
    "lst"
   ]
  },
  {
   "cell_type": "code",
   "execution_count": 11,
   "id": "32d796e9-1003-4a4b-b44e-8d5b3db8dfb7",
   "metadata": {},
   "outputs": [
    {
     "data": {
      "text/plain": [
       "15511210043330985984000000"
      ]
     },
     "execution_count": 11,
     "metadata": {},
     "output_type": "execute_result"
    }
   ],
   "source": [
    "from functools import reduce\n",
    "reduce(lambda x,y:x*y,lst)"
   ]
  },
  {
   "cell_type": "markdown",
   "id": "cd90a9b2-f8ae-496f-8b67-faa2f3bc3ff1",
   "metadata": {},
   "source": [
    "### Que 5"
   ]
  },
  {
   "cell_type": "code",
   "execution_count": 12,
   "id": "2d3f4b94-0648-4dca-9dc1-66ed1cf7810b",
   "metadata": {},
   "outputs": [],
   "source": [
    "lst2 = [2, 3, 6, 9, 27, 60, 90, 120, 55, 46] "
   ]
  },
  {
   "cell_type": "code",
   "execution_count": 13,
   "id": "5510e97b-96bd-4769-a3f9-7dd72fd70b59",
   "metadata": {},
   "outputs": [
    {
     "data": {
      "text/plain": [
       "[2, 3, 6, 9, 27, 60, 90, 120, 46]"
      ]
     },
     "execution_count": 13,
     "metadata": {},
     "output_type": "execute_result"
    }
   ],
   "source": [
    "list(filter(lambda x : x%2==0 or x%3==0, lst2))"
   ]
  },
  {
   "cell_type": "markdown",
   "id": "7cc8d3ba-3f34-4047-acb2-289f1de392bd",
   "metadata": {},
   "source": [
    "### Que 6"
   ]
  },
  {
   "cell_type": "code",
   "execution_count": 14,
   "id": "5b694bf2-3e44-40fb-8771-ba9278e11977",
   "metadata": {},
   "outputs": [],
   "source": [
    "lst3 = ['python', 'php', 'aba', 'radar', 'level']"
   ]
  },
  {
   "cell_type": "code",
   "execution_count": 15,
   "id": "5e3fb758-52f8-4575-bb03-5a880ac9ee71",
   "metadata": {},
   "outputs": [
    {
     "data": {
      "text/plain": [
       "['php', 'aba', 'radar', 'level']"
      ]
     },
     "execution_count": 15,
     "metadata": {},
     "output_type": "execute_result"
    }
   ],
   "source": [
    "list(filter(lambda x : x==x[::-1],lst3))"
   ]
  }
 ],
 "metadata": {
  "kernelspec": {
   "display_name": "Python 3 (ipykernel)",
   "language": "python",
   "name": "python3"
  },
  "language_info": {
   "codemirror_mode": {
    "name": "ipython",
    "version": 3
   },
   "file_extension": ".py",
   "mimetype": "text/x-python",
   "name": "python",
   "nbconvert_exporter": "python",
   "pygments_lexer": "ipython3",
   "version": "3.10.8"
  }
 },
 "nbformat": 4,
 "nbformat_minor": 5
}
