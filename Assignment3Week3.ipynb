{
 "cells": [
  {
   "cell_type": "markdown",
   "id": "af889c7b-8ecb-404e-9d7e-176f811b3a71",
   "metadata": {},
   "source": [
    "### Que 1"
   ]
  },
  {
   "cell_type": "markdown",
   "id": "ef990ccb-be4c-458c-8f9c-d2968fe32631",
   "metadata": {},
   "source": [
    "def keyword is used to create function in python"
   ]
  },
  {
   "cell_type": "code",
   "execution_count": 1,
   "id": "3d5a5e9d-ae64-4647-acee-ec7f046023a1",
   "metadata": {},
   "outputs": [],
   "source": [
    "def odd(l):\n",
    "    l1=[]\n",
    "    for i in l:\n",
    "        if(i%2==1):\n",
    "            l1.append(i)\n",
    "    return l1"
   ]
  },
  {
   "cell_type": "code",
   "execution_count": 2,
   "id": "a47b8b78-f166-46a6-b6aa-7df87caa1f28",
   "metadata": {},
   "outputs": [
    {
     "data": {
      "text/plain": [
       "[1, 3, 5, 7, 9, 11, 13, 15, 17, 19, 21, 23, 25]"
      ]
     },
     "execution_count": 2,
     "metadata": {},
     "output_type": "execute_result"
    }
   ],
   "source": [
    "odd(list(range(1,26)))"
   ]
  },
  {
   "cell_type": "markdown",
   "id": "26959339-f19e-44c4-bc4f-d04958b00f95",
   "metadata": {},
   "source": [
    "### Que 2"
   ]
  },
  {
   "cell_type": "markdown",
   "id": "e4d63abc-a356-4498-a953-1c071f90b6d3",
   "metadata": {},
   "source": [
    "*args is used to provide indefinite number of argument to function which are stored in tuple where as **kwargs is used to provide indefinite number of arguments in form of key value pair which is stored in dictionary."
   ]
  },
  {
   "cell_type": "code",
   "execution_count": 3,
   "id": "d46e6b74-cc36-4ba5-8bcf-e6b05b5237e1",
   "metadata": {},
   "outputs": [],
   "source": [
    "def abc(*args):\n",
    "    return args\n",
    "\n",
    "def xyz(**kwargs):\n",
    "    return kwargs"
   ]
  },
  {
   "cell_type": "code",
   "execution_count": 4,
   "id": "524df899-1c6e-4a76-a791-537915625968",
   "metadata": {},
   "outputs": [
    {
     "data": {
      "text/plain": [
       "(1, 2, 3, 'Priykrit')"
      ]
     },
     "execution_count": 4,
     "metadata": {},
     "output_type": "execute_result"
    }
   ],
   "source": [
    "abc(1,2,3,\"Priykrit\")"
   ]
  },
  {
   "cell_type": "code",
   "execution_count": 5,
   "id": "acde4327-d769-4bb4-8623-6a86d44220c8",
   "metadata": {},
   "outputs": [
    {
     "data": {
      "text/plain": [
       "{'a': 3, 'b': 23, 'c': 'Priykrit', 'd': 25.54}"
      ]
     },
     "execution_count": 5,
     "metadata": {},
     "output_type": "execute_result"
    }
   ],
   "source": [
    "xyz(a=3,b=23,c=\"Priykrit\",d=25.54)"
   ]
  },
  {
   "cell_type": "markdown",
   "id": "833ad754-ba27-4cc6-b741-4c96b3899431",
   "metadata": {},
   "source": [
    "### Que 3"
   ]
  },
  {
   "cell_type": "markdown",
   "id": "e92480c0-3795-4263-bcce-51d9e074d7d0",
   "metadata": {},
   "source": [
    "In Python, an iterator is an object that allows iteration over a container, such as a list, tuple, or dictionary.To initialize an iterator object in Python, we can use the iter() method. This method takes a container as an argument and returns an iterator object associated with that container.To iterate over the elements of the iterator, we can use the next() method. This method retrieves the next element from the iterator. By calling next() repeatedly, we can access each element in sequence until the iterator is exhausted."
   ]
  },
  {
   "cell_type": "code",
   "execution_count": 6,
   "id": "25e5f209-422c-4807-a416-9fcfc70a892e",
   "metadata": {},
   "outputs": [
    {
     "name": "stdout",
     "output_type": "stream",
     "text": [
      "2 4 6 8 10 "
     ]
    }
   ],
   "source": [
    "l = [2,4,6,8,10,12,14,16,18,20]\n",
    "my_iter = iter(l)\n",
    "for i in range(5):\n",
    "    element = next(my_iter)\n",
    "    print(element,end=\" \")"
   ]
  },
  {
   "cell_type": "markdown",
   "id": "2241aa03-0393-459a-9a46-c2c0cf4ddb3e",
   "metadata": {},
   "source": [
    "### Que 4"
   ]
  },
  {
   "cell_type": "markdown",
   "id": "bf294281-ed51-45c2-b568-de0a44a0d506",
   "metadata": {},
   "source": [
    "A generator function in python is used to generate a value depending on previous value. So the function does not have to store a record of values and new subsequent value can be judged from previous value. Map, Reduce and filter are some generator function. Unlike regular functions that return a value and then terminate, generator functions can suspend and resume their execution, allowing them to produce a series of values over time. The yield keyword is used in generator functions to specify the values to be generated. When a generator function is called, it returns a generator object that can be iterated over. Each time the yield keyword is encountered in the function, it suspends the function's execution and returns the yielded value. The state of the function is preserved, allowing it to resume from where it left off when the next value is requested."
   ]
  },
  {
   "cell_type": "code",
   "execution_count": 1,
   "id": "649e72b6-e9dd-450c-83a2-c2c1748edcd6",
   "metadata": {},
   "outputs": [],
   "source": [
    "def fib_gen(n):\n",
    "    a=0\n",
    "    b=1\n",
    "    for i in range(n):\n",
    "        yield a\n",
    "        a,b = b,a+b"
   ]
  },
  {
   "cell_type": "code",
   "execution_count": 2,
   "id": "0b073b75-eb8b-42d6-9ff0-7c0d3a53d74c",
   "metadata": {},
   "outputs": [
    {
     "data": {
      "text/plain": [
       "<generator object fib_gen at 0x7f75a6b81770>"
      ]
     },
     "execution_count": 2,
     "metadata": {},
     "output_type": "execute_result"
    }
   ],
   "source": [
    "fib_gen(10)"
   ]
  },
  {
   "cell_type": "code",
   "execution_count": 3,
   "id": "8ccd4cde-ded7-4d28-9462-5a38c6f7a1fe",
   "metadata": {},
   "outputs": [
    {
     "data": {
      "text/plain": [
       "[0, 1, 1, 2, 3, 5, 8, 13, 21, 34]"
      ]
     },
     "execution_count": 3,
     "metadata": {},
     "output_type": "execute_result"
    }
   ],
   "source": [
    "list(fib_gen(10))"
   ]
  },
  {
   "cell_type": "markdown",
   "id": "5e6d0f9f-d55f-4066-87a9-f32e579e6336",
   "metadata": {},
   "source": [
    "### Que 5"
   ]
  },
  {
   "cell_type": "code",
   "execution_count": 22,
   "id": "3840bc69-e309-424b-aaa6-532b4e31a946",
   "metadata": {},
   "outputs": [],
   "source": [
    "def prime_gen():\n",
    "    prime=[]\n",
    "    for i in range(2,1000):\n",
    "        flag = True\n",
    "        for k in prime:\n",
    "            if(i%k==0):\n",
    "                flag = False\n",
    "                break\n",
    "        if(flag):\n",
    "            prime.append(i)\n",
    "            yield i\n",
    "            "
   ]
  },
  {
   "cell_type": "code",
   "execution_count": 23,
   "id": "a4738b1b-e31d-4597-9c4e-1237f74d14e3",
   "metadata": {},
   "outputs": [
    {
     "data": {
      "text/plain": [
       "<generator object prime_gen at 0x7f7594ab26c0>"
      ]
     },
     "execution_count": 23,
     "metadata": {},
     "output_type": "execute_result"
    }
   ],
   "source": [
    "prime_gen()"
   ]
  },
  {
   "cell_type": "code",
   "execution_count": 24,
   "id": "ffd8e072-1726-49e3-9969-099c01006da0",
   "metadata": {},
   "outputs": [
    {
     "name": "stdout",
     "output_type": "stream",
     "text": [
      "2 3 5 7 11 13 17 19 23 29 31 37 41 43 47 53 59 61 67 71 "
     ]
    }
   ],
   "source": [
    "p_g = prime_gen()\n",
    "for i in range(20):\n",
    "    element = next(p_g)\n",
    "    print(element,end=\" \")"
   ]
  },
  {
   "cell_type": "code",
   "execution_count": null,
   "id": "fa279122-e959-41c6-bc2e-c58f7b77ffe5",
   "metadata": {},
   "outputs": [],
   "source": []
  }
 ],
 "metadata": {
  "kernelspec": {
   "display_name": "Python 3 (ipykernel)",
   "language": "python",
   "name": "python3"
  },
  "language_info": {
   "codemirror_mode": {
    "name": "ipython",
    "version": 3
   },
   "file_extension": ".py",
   "mimetype": "text/x-python",
   "name": "python",
   "nbconvert_exporter": "python",
   "pygments_lexer": "ipython3",
   "version": "3.10.8"
  }
 },
 "nbformat": 4,
 "nbformat_minor": 5
}
