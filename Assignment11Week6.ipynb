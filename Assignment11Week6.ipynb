{
 "cells": [
  {
   "cell_type": "markdown",
   "metadata": {},
   "source": [
    "## Que 1"
   ]
  },
  {
   "cell_type": "markdown",
   "metadata": {},
   "source": [
    "A database is a structured collection of data that is organized and managed in a way that allows for efficient storage, retrieval, and manipulation of information. Databases are used to store and manage large amounts of data for various applications and systems, ranging from simple personal projects to complex enterprise-level applications.\n",
    "* SQL databases are based on the relational model, which means that they organize data into tables with rows and columns. These databases use SQL, a standardized language, to perform operations such as querying, inserting, updating, and deleting data. SQL databases have a predefined schema that defines the structure of the data, including data types, relationships, and constraints.\n",
    "* NoSQL databases, as the name suggests, do not follow the traditional relational model. Instead, they use various data models to store and retrieve data, such as key-value pairs, document-based (JSON or BSON), column-family, or graph-based structures. NoSQL databases are designed to handle large volumes of unstructured or semi-structured data and provide high scalability and flexibility."
   ]
  },
  {
   "cell_type": "markdown",
   "metadata": {},
   "source": [
    "## Que 2"
   ]
  },
  {
   "cell_type": "markdown",
   "metadata": {},
   "source": [
    "DDL stands for Data Definition Language, and it is a subset of SQL (Structured Query Language) used to define, manage, and modify the structure of the database objects. DDL statements are used to create, modify, or delete database objects such as tables, indexes, views, and more. These statements are essential for setting up the database schema and managing its structure.\n",
    "* The CREATE statement is used to create new database objects like tables, indexes, or views.\n",
    "\n",
    "CREATE TABLE employees (\n",
    "\n",
    "    emp_id INT PRIMARY KEY,\n",
    "\n",
    "    emp_name VARCHAR(50),\n",
    "\n",
    "    emp_salary DECIMAL(10, 2),\n",
    "\n",
    "    hire_date DATE\n",
    "\n",
    ");\n",
    "\n",
    "* The DROP statement is used to remove existing database objects like tables, indexes, or views.\n",
    "\n",
    "DROP TABLE employees;\n",
    "\n",
    "* The ALTER statement is used to modify the structure of an existing database object.\n",
    "\n",
    "ALTER TABLE employees\n",
    "\n",
    "ADD emp_department VARCHAR(50);\n",
    "\n",
    "* The TRUNCATE statement is used to remove all data from a table while keeping the table's structure intact.\n",
    "\n",
    "TRUNCATE TABLE employees;\n"
   ]
  },
  {
   "cell_type": "markdown",
   "metadata": {},
   "source": [
    "## Que 3 "
   ]
  },
  {
   "cell_type": "markdown",
   "metadata": {},
   "source": [
    "DML stands for Data Manipulation Language, and it is a subset of SQL (Structured Query Language) used to interact with the data stored in the database. DML statements allow you to insert, update, and delete data in the database tables.\n",
    "* The INSERT statement is used to add new records (rows) into a table.\n",
    "\n",
    "INSERT INTO employees (emp_id, emp_name, emp_salary, hire_date, emp_department)\n",
    "\n",
    "VALUES (101, 'John Doe', 50000, '2023-07-24', 'HR');\n",
    "\n",
    "* The UPDATE statement is used to modify existing records in a table.\n",
    "\n",
    "UPDATE employees\n",
    "\n",
    "SET emp_salary = 55000, emp_department = 'Finance'\n",
    "\n",
    "WHERE emp_id = 101;\n",
    "\n",
    "* The DELETE statement is used to remove one or more records from a table based on specified conditions.\n",
    "\n",
    "DELETE FROM employees\n",
    "\n",
    "WHERE emp_id = 101;\n",
    "\n"
   ]
  },
  {
   "cell_type": "markdown",
   "metadata": {},
   "source": [
    "## Que 4 "
   ]
  },
  {
   "cell_type": "markdown",
   "metadata": {},
   "source": [
    "DQL stands for Data Query Language, and it is a subset of SQL (Structured Query Language) used to retrieve and query data from a database. DQL allows you to perform queries on the database tables to extract specific information based on certain conditions.\n",
    "The most commonly used DQL statement is the SELECT statement, which is used to retrieve data from one or more tables in the database.\n",
    "\n",
    "SELECT emp_id, emp_name, emp_salary\n",
    "\n",
    "FROM employees\n",
    "\n",
    "WHERE emp_department = 'HR';\n",
    "\n"
   ]
  },
  {
   "cell_type": "markdown",
   "metadata": {},
   "source": [
    "## Que 5"
   ]
  },
  {
   "cell_type": "markdown",
   "metadata": {},
   "source": [
    "A Primary Key is a column or a set of columns in a database table that uniquely identifies each record (row) in that table. It serves as a unique identifier for the records and ensures that there are no duplicate or null values in the key column. Every table in a relational database should have a primary key, as it guarantees data integrity and provides a way to uniquely identify individual rows.\n",
    "\n",
    "A Foreign Key is a column or a set of columns in a database table that establishes a link or relationship between two tables. It represents a reference to the primary key column of another table, thereby creating a link between the two tables. The foreign key ensures referential integrity, which means that the values in the foreign key column must either match a primary key value in the referenced table or be null."
   ]
  },
  {
   "cell_type": "markdown",
   "metadata": {},
   "source": [
    "## Que 6"
   ]
  },
  {
   "cell_type": "markdown",
   "metadata": {},
   "source": [
    "import mysql.connector\n",
    "\n",
    "mydb = mysql.connector.connect(host=\"localhost\",user=\"abc\",password=\"password\")\n",
    "\n",
    "mycursor = mydb.cursor()\n"
   ]
  },
  {
   "cell_type": "markdown",
   "metadata": {},
   "source": [
    "The cursor() method is used to create a cursor object, which allows you to interact with the MySQL database. The cursor object provides various methods to execute SQL queries, fetch data, and manage transactions. The cursor acts as a pointer to the result set returned by a query and enables you to process the data retrieved from the database."
   ]
  },
  {
   "cell_type": "markdown",
   "metadata": {},
   "source": [
    "The execute() method is used to execute an SQL query using the cursor object. It takes the SQL query as a parameter and sends the query to the MySQL server for execution. After execution, the results (if any) are available in the cursor object for further processing."
   ]
  },
  {
   "cell_type": "markdown",
   "metadata": {},
   "source": [
    "## Que 7"
   ]
  },
  {
   "cell_type": "markdown",
   "metadata": {},
   "source": [
    "The order of execution in an SQL query is as follows: SELECT -> FROM -> WHERE -> GROUP BY -> HAVING -> ORDER BY -> LIMIT / OFFSET (if used). All clauses are not mandatory in every SQL query, the order may change based on the presence and arrangement of these clauses in the query."
   ]
  }
 ],
 "metadata": {
  "kernelspec": {
   "display_name": "Python 3.8.10 64-bit",
   "language": "python",
   "name": "python3"
  },
  "language_info": {
   "name": "python",
   "version": "3.8.10"
  },
  "orig_nbformat": 4,
  "vscode": {
   "interpreter": {
    "hash": "e7370f93d1d0cde622a1f8e1c04877d8463912d04d973331ad4851f04de6915a"
   }
  }
 },
 "nbformat": 4,
 "nbformat_minor": 2
}
