{
 "cells": [
  {
   "cell_type": "markdown",
   "id": "4351f480-b91c-4dff-81f9-0fb6993da663",
   "metadata": {},
   "source": [
    "## Que 1"
   ]
  },
  {
   "cell_type": "markdown",
   "id": "f831b535-d2ff-4292-a7f3-74a225422043",
   "metadata": {},
   "source": [
    "Multithreading in Python refers to the concurrent execution of multiple threads within a single process. A thread is a lightweight unit of execution that can perform tasks independently while sharing the same memory space. \n",
    "Multithreading is used in Python to perform multiple tasks concurrently and improve the performance of certain types of programs. It can be particularly useful when dealing with I/O-bound operations, such as network requests or file handling.\n",
    "The module used to handle threads in Python is called \"threading.\" It provides a high-level interface for creating and managing threads in Python programs."
   ]
  },
  {
   "cell_type": "code",
   "execution_count": 1,
   "id": "2f6c1940-be0b-42de-98da-cb93c8a56257",
   "metadata": {},
   "outputs": [],
   "source": [
    "import threading"
   ]
  },
  {
   "cell_type": "markdown",
   "id": "514d89e8-bcac-41b9-9e59-deae030872b4",
   "metadata": {},
   "source": [
    "## Que 2"
   ]
  },
  {
   "cell_type": "markdown",
   "id": "eecb071f-7fa3-4156-b3ad-071246ca4cb0",
   "metadata": {},
   "source": [
    "The threading module in Python is used for creating and managing threads in a Python program. It provides a high-level interface that allows you to work with threads easily."
   ]
  },
  {
   "cell_type": "markdown",
   "id": "cea3897c-c531-4dca-9782-ad03da848b5e",
   "metadata": {},
   "source": [
    "The activeCount() function is used to get the number of Thread objects currently alive and running in the program. It returns the number of active threads"
   ]
  },
  {
   "cell_type": "code",
   "execution_count": 3,
   "id": "0311ba77-c742-4883-adc6-824a90857150",
   "metadata": {},
   "outputs": [
    {
     "data": {
      "text/plain": [
       "8"
      ]
     },
     "execution_count": 3,
     "metadata": {},
     "output_type": "execute_result"
    }
   ],
   "source": [
    "threading.active_count()"
   ]
  },
  {
   "cell_type": "markdown",
   "id": "0e962580-f425-474e-a412-dc99c9aec7cf",
   "metadata": {},
   "source": [
    "The currentThread() function returns the Thread object corresponding to the current thread. It allows you to obtain a reference to the currently executing thread within the program."
   ]
  },
  {
   "cell_type": "code",
   "execution_count": 4,
   "id": "e96ac0d7-3891-4438-90ce-9e11a50d5d35",
   "metadata": {},
   "outputs": [
    {
     "data": {
      "text/plain": [
       "<_MainThread(MainThread, started 140628625844032)>"
      ]
     },
     "execution_count": 4,
     "metadata": {},
     "output_type": "execute_result"
    }
   ],
   "source": [
    "threading.current_thread()"
   ]
  },
  {
   "cell_type": "markdown",
   "id": "8b484ec0-1d83-4c1d-8365-7f8d9c6f0a68",
   "metadata": {},
   "source": [
    "The enumerate() function returns a list of all Thread objects currently alive and running in the program. It provides a convenient way to iterate over all active threads and perform operations on them."
   ]
  },
  {
   "cell_type": "code",
   "execution_count": 5,
   "id": "61a6c844-9153-4ccf-ad81-eb7d4bdcc285",
   "metadata": {},
   "outputs": [
    {
     "data": {
      "text/plain": [
       "[<_MainThread(MainThread, started 140628625844032)>,\n",
       " <Thread(IOPub, started daemon 140628555314752)>,\n",
       " <Heartbeat(Heartbeat, started daemon 140628546922048)>,\n",
       " <Thread(Thread-3 (_watch_pipe_fd), started daemon 140628521743936)>,\n",
       " <Thread(Thread-4 (_watch_pipe_fd), started daemon 140628513351232)>,\n",
       " <ControlThread(Control, started daemon 140628168013376)>,\n",
       " <HistorySavingThread(IPythonHistorySavingThread, started 140628159620672)>,\n",
       " <ParentPollerUnix(Thread-2, started daemon 140628151227968)>]"
      ]
     },
     "execution_count": 5,
     "metadata": {},
     "output_type": "execute_result"
    }
   ],
   "source": [
    "threading.enumerate()"
   ]
  },
  {
   "cell_type": "markdown",
   "id": "049f0e95-53f1-48cd-ba1b-f7546f6bc1f7",
   "metadata": {},
   "source": [
    "## Que 3"
   ]
  },
  {
   "cell_type": "markdown",
   "id": "8553daae-7f56-4a07-bb2e-8f2c3b424def",
   "metadata": {},
   "source": [
    "The run() function is the entry point for the thread's activity. It is the method that gets executed when we call the start() method on a Thread object."
   ]
  },
  {
   "cell_type": "markdown",
   "id": "27f73815-07c4-4aaa-91f6-f227bebf5c43",
   "metadata": {},
   "source": [
    "The start() function is used to start the execution of a thread. It initializes the thread, allocates necessary resources, and calls the run() method of the Thread object in a separate thread."
   ]
  },
  {
   "cell_type": "markdown",
   "id": "236d50e1-0419-4a48-800b-6a4d06fb5f23",
   "metadata": {},
   "source": [
    "The join() function is used to wait for a thread to complete its execution. When we call join() on a Thread object, the calling thread will be blocked until the specified thread terminates."
   ]
  },
  {
   "cell_type": "markdown",
   "id": "456f9e19-3981-4413-b8ed-bdfc585d62c0",
   "metadata": {},
   "source": [
    "The isAlive() function is used to check whether a thread is currently running or active. It returns a boolean value indicating the status of the thread. If the thread is still alive and executing, isAlive() will return True."
   ]
  },
  {
   "cell_type": "markdown",
   "id": "afd0c756-7d8e-4014-b54c-f6daf676ee42",
   "metadata": {},
   "source": [
    "## Que 4"
   ]
  },
  {
   "cell_type": "code",
   "execution_count": 13,
   "id": "e445082c-d2b5-468f-85c3-0fafa4d61bd5",
   "metadata": {},
   "outputs": [],
   "source": [
    "def sqr(l):\n",
    "    l1=[]\n",
    "    for i in l:\n",
    "        l1.append(i*i)\n",
    "    print(l1)"
   ]
  },
  {
   "cell_type": "code",
   "execution_count": 14,
   "id": "ea091982-69a0-4456-870f-7b7071e219f6",
   "metadata": {},
   "outputs": [],
   "source": [
    "def cube(l):\n",
    "    l1=[]\n",
    "    for i in l:\n",
    "        l1.append(i*i*i)\n",
    "    print(l1)"
   ]
  },
  {
   "cell_type": "code",
   "execution_count": 15,
   "id": "6d353145-6d50-4197-a907-0ea8891c3e4f",
   "metadata": {},
   "outputs": [
    {
     "name": "stdout",
     "output_type": "stream",
     "text": [
      "[1, 4, 9, 16, 25]\n",
      "[1, 8, 27, 64, 125]\n"
     ]
    }
   ],
   "source": [
    "l = [1,2,3,4,5]\n",
    "thread1 = threading.Thread(target=sqr,args=(l,))\n",
    "thread2 = threading.Thread(target=cube,args=(l,))\n",
    "thread1.start()\n",
    "thread2.start()\n",
    "thread1.join()\n",
    "thread2.join()"
   ]
  },
  {
   "cell_type": "markdown",
   "id": "0200a7d6-c94a-49f5-ac78-3c8a70349f48",
   "metadata": {},
   "source": [
    "## Que 5"
   ]
  },
  {
   "cell_type": "markdown",
   "id": "175429d9-1e80-485f-976a-bd451106cb6f",
   "metadata": {},
   "source": [
    "Advantages of Multithreading:\n",
    "* Concurrency\n",
    "* Resource Sharing\n",
    "* Responsiveness\n",
    "* Resource Efficiency\n",
    "\n",
    "Disadvantages of Multithreading:\n",
    "* Complexity\n",
    "* Debugging and Testing"
   ]
  },
  {
   "cell_type": "markdown",
   "id": "2afa9486-5931-4e99-99c9-4364420fa1a2",
   "metadata": {},
   "source": [
    "## Que 6"
   ]
  },
  {
   "cell_type": "markdown",
   "id": "4336d7fa-f509-4325-bf68-ecac35533341",
   "metadata": {},
   "source": [
    "A deadlock occurs when two or more threads are blocked indefinitely, waiting for each other to release resources that they currently hold. In a deadlock situation, none of the threads can proceed, resulting in a program freeze or a significant slowdown.\n",
    "Conditions for deadlock:\n",
    "* Mutual Exclusion\n",
    "* Hold and Wait\n",
    "* No Preemption\n",
    "* Circular Wait\n",
    "\n",
    "A race condition occurs when the behavior of a program depends on the relative timing or interleaving of multiple threads, and the outcome is unpredictable or incorrect. It happens when multiple threads access and modify shared data concurrently without proper synchronization."
   ]
  }
 ],
 "metadata": {
  "kernelspec": {
   "display_name": "Python 3 (ipykernel)",
   "language": "python",
   "name": "python3"
  },
  "language_info": {
   "codemirror_mode": {
    "name": "ipython",
    "version": 3
   },
   "file_extension": ".py",
   "mimetype": "text/x-python",
   "name": "python",
   "nbconvert_exporter": "python",
   "pygments_lexer": "ipython3",
   "version": "3.10.8"
  }
 },
 "nbformat": 4,
 "nbformat_minor": 5
}
