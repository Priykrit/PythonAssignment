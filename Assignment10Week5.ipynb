{
 "cells": [
  {
   "cell_type": "markdown",
   "id": "490bfce9-33b7-4c68-8e66-b62b8603573e",
   "metadata": {},
   "source": [
    "## Que 1"
   ]
  },
  {
   "cell_type": "markdown",
   "id": "9a2c4377-e667-45ed-aee8-094716bc0a6e",
   "metadata": {},
   "source": [
    "Multiprocessing in Python refers to the execution of multiple processes simultaneously, where each process runs independently and has its own memory space. Unlike multithreading, multiprocessing allows for true parallelism by utilizing multiple CPU cores or processors.\n",
    "* Multiprocessing enables the execution of multiple processes in parallel, leveraging multiple CPU cores or processors\n",
    "* Unlike multithreading, which is subject to the Global Interpreter Lock (GIL) in Python, multiprocessing allows for true concurrency\n",
    "* With multiprocessing, each process runs in its own memory space, providing isolation between processes\n",
    "* Multiprocessing allows for efficient utilization and management of system resources"
   ]
  },
  {
   "cell_type": "markdown",
   "id": "949923da-4a10-4a21-9d68-359f81419c70",
   "metadata": {},
   "source": [
    "## Que 2"
   ]
  },
  {
   "cell_type": "markdown",
   "id": "898606ce-ad53-4e37-b7bb-4689aca3da12",
   "metadata": {},
   "source": [
    "*  In multiprocessing, multiple processes run concurrently, where each process has its own memory space and runs independently. In multithreading, multiple threads run within the same process and share the same memory space. \n",
    "* Multiprocessing allows for true parallelism, utilizing multiple CPU cores or processors. Each process runs on a separate core, enabling simultaneous execution of multiple tasks. Due to the Global Interpreter Lock (GIL) in Python, multithreading does not achieve true parallelism and cannot utilize multiple CPU cores for CPU-bound tasks. \n",
    "* Multiprocessing generally consumes more system resources compared to multithreading. Each process requires its own memory space and system resources, which can lead to higher memory usage and overhead. Multithreading is more lightweight in terms of resource consumption. Since threads share the same memory space, memory overhead is generally lower compared to multiprocessing. "
   ]
  },
  {
   "cell_type": "markdown",
   "id": "6831d13a-a5d7-4de9-9763-16f881c7b6f1",
   "metadata": {},
   "source": [
    "## Que 3"
   ]
  },
  {
   "cell_type": "code",
   "execution_count": 1,
   "id": "4f6ca573-8eb2-4701-ba67-22b202ccf3d9",
   "metadata": {},
   "outputs": [],
   "source": [
    "import multiprocessing"
   ]
  },
  {
   "cell_type": "code",
   "execution_count": 2,
   "id": "fe8e74de-fbf6-4013-9271-3850f66d5bd0",
   "metadata": {},
   "outputs": [
    {
     "name": "stdout",
     "output_type": "stream",
     "text": [
      "This is main function\n",
      "This methoed is invoked using multiprocessing module\n"
     ]
    }
   ],
   "source": [
    "def test1():\n",
    "    print(\"This methoed is invoked using multiprocessing module\")\n",
    "    \n",
    "if __name__=='__main__':\n",
    "    process = multiprocessing.Process(target=test1)\n",
    "    print(\"This is main function\")\n",
    "    process.start()\n",
    "    process.join()"
   ]
  },
  {
   "cell_type": "markdown",
   "id": "1f9a4860-b00c-4325-b6da-ebd4a503714f",
   "metadata": {},
   "source": [
    "## Que 4"
   ]
  },
  {
   "cell_type": "markdown",
   "id": "0819cd30-b51a-4727-b53b-a36b17df33a3",
   "metadata": {},
   "source": [
    "In Python, a multiprocessing pool refers to a pool of worker processes managed by the multiprocessing.Pool class. The pool provides a convenient way to parallelize and distribute the execution of a function across multiple processes, making efficient use of available CPU cores or processors. The multiprocessing.Pool class offers several methods to execute tasks in parallel, including map(), imap(), map_async(), and apply_async(). These methods divide the workload into smaller tasks and distribute them among the worker processes in the pool. Once the tasks are completed, the results can be collected and returned to the main process.\n",
    "Reasons why multiprocessing pools are used:\n",
    "* Multiprocessing pools allow for parallel execution of tasks.\n",
    "* The multiprocessing pool automatically distributes tasks among the worker processes, ensuring balanced utilization of system resources.\n",
    "* The multiprocessing pool offers methods to collect and retrieve the results of the parallel tasks. Whether using map(), imap(), or other methods, the pool handles the synchronization and collection of task results, making it easy to obtain the final outcome of the parallel execution."
   ]
  },
  {
   "cell_type": "markdown",
   "id": "161bf4cd-6cdd-4779-b07b-09f1529acb45",
   "metadata": {},
   "source": [
    "## Que 5"
   ]
  },
  {
   "cell_type": "code",
   "execution_count": 3,
   "id": "d44cece6-9ef4-4804-b711-c753ecc8bafe",
   "metadata": {},
   "outputs": [
    {
     "name": "stdout",
     "output_type": "stream",
     "text": [
      "[1, 8, 27, 64, 125, 216, 343, 512, 729, 1000]\n"
     ]
    }
   ],
   "source": [
    "import multiprocessing\n",
    "def cube(n):\n",
    "    return n*n*n\n",
    "if(__name__=='__main__'):\n",
    "    with multiprocessing.Pool(processes=5) as pool:\n",
    "        out = pool.map(cube,[1,2,3,4,5,6,7,8,9,10])\n",
    "        print(out)"
   ]
  },
  {
   "cell_type": "markdown",
   "id": "4ff95da0-745d-4af7-bffc-2ff2819ee557",
   "metadata": {},
   "source": [
    "## Que 6"
   ]
  },
  {
   "cell_type": "code",
   "execution_count": 11,
   "id": "8b6e2886-b9f8-4961-8898-da08547ccbec",
   "metadata": {},
   "outputs": [
    {
     "name": "stdout",
     "output_type": "stream",
     "text": [
      "2338\n",
      "2341\n",
      "2348\n",
      "2351\n"
     ]
    }
   ],
   "source": [
    "import multiprocessing\n",
    "\n",
    "def prt(index,arr):\n",
    "    print(multiprocessing.current_process().pid)\n",
    "\n",
    "if __name__=='__main__':\n",
    "    process=[]\n",
    "    # arr = multiprocessing.Array('i',[1,2,3,4])\n",
    "    arr=[1,2,3,4]\n",
    "    for i in range(len(arr)):\n",
    "        p = multiprocessing.Process(target=prt, args=(i,arr))\n",
    "        process.append(p)\n",
    "        p.start()\n",
    "    for p in process:\n",
    "        p.join()"
   ]
  }
 ],
 "metadata": {
  "kernelspec": {
   "display_name": "Python 3 (ipykernel)",
   "language": "python",
   "name": "python3"
  },
  "language_info": {
   "codemirror_mode": {
    "name": "ipython",
    "version": 3
   },
   "file_extension": ".py",
   "mimetype": "text/x-python",
   "name": "python",
   "nbconvert_exporter": "python",
   "pygments_lexer": "ipython3",
   "version": "3.10.8"
  }
 },
 "nbformat": 4,
 "nbformat_minor": 5
}
