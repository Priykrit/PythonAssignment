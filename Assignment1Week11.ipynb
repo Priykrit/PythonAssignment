{
 "cells": [
  {
   "cell_type": "markdown",
   "id": "8b6afdbd-e650-49a4-a4ad-5e04d4807cb4",
   "metadata": {},
   "source": [
    "## Que 1"
   ]
  },
  {
   "cell_type": "markdown",
   "id": "40141efd-13ce-4854-93c7-9530ed7beb08",
   "metadata": {},
   "source": [
    "Function describing likelihood of continuous random variable's values."
   ]
  },
  {
   "cell_type": "markdown",
   "id": "e838d11b-f8e9-470e-af15-353de871b7fe",
   "metadata": {},
   "source": [
    "## Que 2"
   ]
  },
  {
   "cell_type": "markdown",
   "id": "0008fb4f-8d05-47e7-b510-a5603921067c",
   "metadata": {},
   "source": [
    "Uniform, Normal, Exponential, Poisson, Binomial, etc."
   ]
  },
  {
   "cell_type": "markdown",
   "id": "59b6a09e-1193-4fee-8ced-dd6ddc6cc369",
   "metadata": {},
   "source": [
    "## Que 3"
   ]
  },
  {
   "cell_type": "code",
   "execution_count": 2,
   "id": "ae47c14a-5176-47e1-bde4-6c00f07aee7b",
   "metadata": {},
   "outputs": [],
   "source": [
    "import math\n",
    "\n",
    "def normal_pdf(x, mean, std_dev):\n",
    "    exponent = -((x - mean)**2) / (2 * std_dev**2)\n",
    "    coefficient = 1 / (std_dev * math.sqrt(2 * math.pi))\n",
    "    return coefficient * math.exp(exponent)\n"
   ]
  },
  {
   "cell_type": "markdown",
   "id": "f607ff6a-6fea-4c1f-bb64-1f52f0dd11d1",
   "metadata": {},
   "source": [
    "## Que 4"
   ]
  },
  {
   "cell_type": "markdown",
   "id": "6a780cdc-8e47-4c60-9987-ed2c4e9b55c4",
   "metadata": {},
   "source": [
    "Properties:\n",
    "1. Discrete probability distribution.\n",
    "2. Describes number of successes in fixed number of independent trials.\n",
    "3. Two parameters: n (number of trials), p (probability of success).\n",
    "4. Mean: np, Variance: np(1-p).\n",
    "\n",
    "Examples:\n",
    "1. Coin flips: Counting heads in multiple coin tosses.\n",
    "2. Quality control: Defective items in a batch of products."
   ]
  },
  {
   "cell_type": "markdown",
   "id": "fb2097c6-6906-4569-ae1b-200471410e92",
   "metadata": {},
   "source": [
    "## Que 5"
   ]
  },
  {
   "cell_type": "code",
   "execution_count": 3,
   "id": "b351c03e-1fb2-4c6d-b835-1a0d4143cc2b",
   "metadata": {},
   "outputs": [
    {
     "data": {
      "image/png": "[encoded data removed]",
      "text/plain": [
       "<Figure size 640x480 with 1 Axes>"
      ]
     },
     "metadata": {},
     "output_type": "display_data"
    }
   ],
   "source": [
    "import matplotlib.pyplot as plt\n",
    "import numpy as np\n",
    "\n",
    "# Generate random sample\n",
    "sample_size = 1000\n",
    "probability_success = 0.4\n",
    "random_sample = np.random.binomial(n=1, p=probability_success, size=sample_size)\n",
    "\n",
    "# Plot histogram\n",
    "plt.hist(random_sample, bins=2, rwidth=0.8, align='left', color='blue', alpha=0.7)\n",
    "plt.xticks([0, 1], ['Failure', 'Success'])\n",
    "plt.xlabel('Outcome')\n",
    "plt.ylabel('Frequency')\n",
    "plt.title('Binomial Distribution Sample')\n",
    "plt.show()\n"
   ]
  },
  {
   "cell_type": "markdown",
   "id": "2eff3b22-8926-47d0-9579-d5bbdef81842",
   "metadata": {},
   "source": [
    "## Que 6"
   ]
  },
  {
   "cell_type": "code",
   "execution_count": 4,
   "id": "7be6044d-b821-4512-9319-d9f1dacfeb11",
   "metadata": {},
   "outputs": [],
   "source": [
    "import math\n",
    "\n",
    "def poisson_cdf(x, mean):\n",
    "    cdf = 0\n",
    "    for i in range(x + 1):\n",
    "        cdf += (math.exp(-mean) * mean**i) / math.factorial(i)\n",
    "    return cdf\n"
   ]
  },
  {
   "cell_type": "markdown",
   "id": "f8e9017a-6cfc-44c1-96c2-eeff6cd03fe1",
   "metadata": {},
   "source": [
    "## Que 7"
   ]
  },
  {
   "cell_type": "markdown",
   "id": "d665f2f6-8b57-4895-89f5-df1f808b3113",
   "metadata": {},
   "source": [
    "Binomial: \n",
    "- Describes number of successes in fixed number of trials.\n",
    "- Parameters: n (trials), p (success probability).\n",
    "- Discrete distribution.\n",
    "\n",
    "Poisson:\n",
    "- Describes number of events in fixed interval.\n",
    "- Parameter: λ (average rate of events).\n",
    "- Often used for rare events.\n",
    "- Discrete distribution.\n",
    "\n",
    "Both are related: Poisson can approximate Binomial when n is large, p is small."
   ]
  },
  {
   "cell_type": "markdown",
   "id": "d8c63883-a91c-495e-9a68-8a25b8f9dcfd",
   "metadata": {},
   "source": [
    "## Que 8"
   ]
  },
  {
   "cell_type": "code",
   "execution_count": 5,
   "id": "9439145d-2b8e-472e-b278-2af015092fa3",
   "metadata": {},
   "outputs": [
    {
     "data": {
      "text/plain": [
       "(5.155, 4.690975000000001)"
      ]
     },
     "execution_count": 5,
     "metadata": {},
     "output_type": "execute_result"
    }
   ],
   "source": [
    "import numpy as np\n",
    "\n",
    "# Generate random sample\n",
    "sample_size = 1000\n",
    "mean = 5\n",
    "random_sample = np.random.poisson(mean, size=sample_size)\n",
    "\n",
    "# Calculate sample mean and variance\n",
    "sample_mean = np.mean(random_sample)\n",
    "sample_variance = np.var(random_sample)\n",
    "\n",
    "sample_mean, sample_variance"
   ]
  },
  {
   "cell_type": "markdown",
   "id": "21668b58-0185-4e59-9484-8eef7c375d82",
   "metadata": {},
   "source": [
    "## Que 9"
   ]
  },
  {
   "cell_type": "markdown",
   "id": "ae469082-f301-43b7-a514-d97003393c20",
   "metadata": {},
   "source": [
    "In both Binomial and Poisson distributions:\n",
    "\n",
    "Mean (μ) = n * p (Binomial)\n",
    "Mean (μ) = λ (Poisson)\n",
    "\n",
    "Variance (σ^2) = n * p * (1 - p) (Binomial)\n",
    "Variance (σ^2) = λ (Poisson)\n",
    "\n",
    "For large n and small p, Binomial approaches Poisson, so their means and variances become more similar."
   ]
  },
  {
   "cell_type": "markdown",
   "id": "ce27c707-c5b4-4849-b02f-a573162affbe",
   "metadata": {},
   "source": [
    "## Que 10"
   ]
  },
  {
   "cell_type": "markdown",
   "id": "358cbbe9-5043-4bc9-ae4d-bf9536766a64",
   "metadata": {},
   "source": [
    "In a normal distribution, the least frequent data appears in the tails, which are farther away from the mean."
   ]
  }
 ],
 "metadata": {
  "kernelspec": {
   "display_name": "Python 3 (ipykernel)",
   "language": "python",
   "name": "python3"
  },
  "language_info": {
   "codemirror_mode": {
    "name": "ipython",
    "version": 3
   },
   "file_extension": ".py",
   "mimetype": "text/x-python",
   "name": "python",
   "nbconvert_exporter": "python",
   "pygments_lexer": "ipython3",
   "version": "3.10.8"
  }
 },
 "nbformat": 4,
 "nbformat_minor": 5
}
