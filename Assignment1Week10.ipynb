{
 "cells": [
  {
   "cell_type": "markdown",
   "id": "d8219db3-b3c1-4ce2-a5c9-075dbe284ee9",
   "metadata": {},
   "source": [
    "## Que 1"
   ]
  },
  {
   "cell_type": "markdown",
   "id": "689d9f16-b909-4f13-864b-eb0405a521da",
   "metadata": {},
   "source": [
    "Statistics refers to both a branch of mathematics and a field of study that involves the collection, analysis, interpretation, presentation, and organization of data. Its primary goal is to understand and make sense of data by summarizing and drawing conclusions from it. Statistics play a crucial role in various disciplines and industries, including science, economics, social sciences, business, medicine, and more.\n",
    "* Descriptive Statistics: These involve methods of organizing, summarizing, and presenting data in a meaningful way.\n",
    "* Inferential Statistics: This branch involves drawing conclusions and making predictions about populations based on a sample of data."
   ]
  },
  {
   "cell_type": "markdown",
   "id": "c8a9c390-75dc-474a-808c-b12f2166b0de",
   "metadata": {},
   "source": [
    "## Que 2"
   ]
  },
  {
   "cell_type": "markdown",
   "id": "c48785d1-d600-4f24-99a3-116fc19d90f5",
   "metadata": {},
   "source": [
    "* Descriptive statistics involve methods for summarizing, organizing, and presenting data in a meaningful way.\n",
    "\n",
    "Example: Imagine we have collected the ages of a group of individuals attending a conference. We can use descriptive statistics to summarize this data. We might calculate the mean (average) age, the median (middle age), and the standard deviation (dispersion of ages around the mean) to understand the central tendency and variability of ages in our sample.\n",
    "* Inferential statistics involve drawing conclusions and making predictions about a population based on a sample of data.\n",
    "\n",
    "Example: Suppose you're conducting a medical study to test the effectiveness of a new drug in reducing blood pressure. You randomly select a group of 200 patients with hypertension and administer the drug to them. After a period of time, you measure their blood pressure levels and compare them to a control group that received a placebo. By using inferential statistics, such as hypothesis testing, you can determine if the observed differences in blood pressure between the two groups are statistically significant, allowing you to make conclusions about the drug's efficacy in the larger population of people with hypertension."
   ]
  },
  {
   "cell_type": "markdown",
   "id": "edf70921-5fd4-4e55-96bd-ae8a5bbda1b6",
   "metadata": {},
   "source": [
    "## Que 3"
   ]
  },
  {
   "cell_type": "markdown",
   "id": "61e12cb8-e990-428f-b44d-e605d080c485",
   "metadata": {},
   "source": [
    "* Nominal data represent categories or labels without any inherent order or ranking.Example: Colors of cars in a parking lot (e.g., red, blue, green) or types of fruits (e.g., apple, banana, orange).\n",
    "* Ordinal data also represent categories, but they have a meaningful order or ranking between them. The differences between values may not be uniform or quantifiable. Example: Educational levels (e.g., high school diploma, bachelor's degree, master's degree) or customer satisfaction ratings (e.g., poor, satisfactory, excellent).\n",
    "* Interval data have a meaningful order between values and equal intervals, but they don't have a true zero point. This means that you can measure the differences between values, but you can't make meaningful statements about ratios. Example: Temperature in Celsius or Fahrenheit. While you can say that 20°C is 10°C warmer than 10°C, you can't claim that 20°C is twice as hot as 10°C.\n",
    "* Ratio data have a meaningful order, equal intervals, and a true zero point. This allows for meaningful ratios and comparisons between values. Example: Height, weight, income, age. If someone's weight is 60 kg and another person's weight is 30 kg, you can confidently say that the first person weighs twice as much as the second person."
   ]
  },
  {
   "cell_type": "markdown",
   "id": "84ed330d-3db8-4580-9fe9-95acc7bcfd51",
   "metadata": {},
   "source": [
    "## Que 4"
   ]
  },
  {
   "cell_type": "markdown",
   "id": "a4d11496-1adb-4239-9f20-f0913e889a8b",
   "metadata": {},
   "source": [
    "### Quantitative and Qualitative\n",
    "(i) Grading in exam: A+, A, B+, B, C+, C, D, E - Qualitative\n",
    "\n",
    "(ii) Colour of mangoes: yellow, green, orange, red - Qualitative\n",
    "\n",
    "(iii) Height data of a class: [178.9, 179, 179.5, 176, 177.2, 178.3, 175.8,...] - Quantitative\n",
    "\n",
    "(iv) Number of mangoes exported by a farm: [500, 600, 478, 672, ...] - Quantitative"
   ]
  },
  {
   "cell_type": "markdown",
   "id": "8209c2d6-dfc1-4602-96dd-76a75e097732",
   "metadata": {},
   "source": [
    "## Que 5"
   ]
  },
  {
   "cell_type": "markdown",
   "id": "42ddac43-821e-44d4-9889-ab0090c11877",
   "metadata": {},
   "source": [
    "Levels of measurement, also known as scales of measurement, refer to the different ways in which data can be classified based on the properties and characteristics of the data. There are four main levels of measurement, each with distinct properties and the ability to perform different types of analyses. \n",
    "* Nominal Level: Example: Gender (male, female), Eye color (blue, brown, green), Blood type (A, B, AB, O).\n",
    "* Ordinal Level: Example: Education level (high school, bachelor's, master's), Socioeconomic status (low, medium, high), Customer satisfaction rating (low, medium, high).\n",
    "* Interval Level: Example: Temperature in Celsius or Fahrenheit (20°C vs. 30°C doesn't imply twice as hot), IQ scores (an IQ of 120 is not necessarily twice as intelligent as an IQ of 60).\n",
    "* Ratio Level: Example: Height (a person who is 180 cm is twice as tall as a person who is 90 cm), Weight (a person who weighs 60 kg has twice the weight of a person who weighs 30 kg)."
   ]
  },
  {
   "cell_type": "markdown",
   "id": "7a54f5e0-94c6-4667-88ff-a75ec51b0f86",
   "metadata": {},
   "source": [
    "## Que 6"
   ]
  },
  {
   "cell_type": "markdown",
   "id": "6600df01-267f-45fe-a31c-ec362ba880b1",
   "metadata": {},
   "source": [
    "Understanding the level of measurement is essential when analyzing data because it determines the types of statistical analyses that can be appropriately applied to the data. Different levels of measurement have varying properties and limitations, and using the wrong type of analysis can lead to incorrect conclusions or misinterpretations of the results. \n",
    "\n",
    "Example- Imagine you're conducting a study to compare the satisfaction levels of customers who have purchased different products from an online store. You collect data on the ratings given by customers on a scale from 1 to 5, where 1 represents \"Very Dissatisfied\" and 5 represents \"Very Satisfied.\"\n",
    "\n",
    "The level of measurement for this variable is ordinal because the data has a meaningful order (1 < 2 < 3 < 4 < 5), but the intervals between the ratings may not be equal or quantifiable. This understanding influences the type of analysis you can perform.\n",
    "\n",
    "In this case, you might use non-parametric tests like the Mann-Whitney U test to compare the median satisfaction ratings between two groups of products. This is because non-parametric tests are suitable for ordinal data and do not assume a specific distribution.\n",
    "\n",
    "If you were to mistakenly apply a parametric test like a t-test, which assumes interval or ratio data and equal variances, you could end up with inaccurate results and conclusions due to the mismatch between the data's level of measurement and the assumptions of the test."
   ]
  },
  {
   "cell_type": "markdown",
   "id": "d53e27ed-3195-4811-9a1e-bfd30415e040",
   "metadata": {},
   "source": [
    "## Que 7"
   ]
  },
  {
   "cell_type": "markdown",
   "id": "d2a87a0d-714f-415b-9193-409de40489fb",
   "metadata": {},
   "source": [
    "Nominal Data:\n",
    "* Nominal data consists of categories or labels without any inherent order or ranking.\n",
    "* The categories are distinct and non-overlapping.\n",
    "* There is no meaningful relationship between the categories in terms of magnitude or direction.\n",
    "* Examples include gender (male, female), eye color (blue, brown, green), and types of fruits (apple, banana, orange).\n",
    "\n",
    "Ordinal Data:\n",
    "* Ordinal data also consists of categories, but these categories have a meaningful order or ranking.\n",
    "* The order represents relative differences between values, but the magnitude of these differences may not be uniform or quantifiable.\n",
    "* Examples include educational levels (high school, bachelor's, master's), customer satisfaction ratings (low, medium, high), and rankings (1st, 2nd, 3rd)."
   ]
  },
  {
   "cell_type": "markdown",
   "id": "56479cbf-94ac-40d9-b357-adaec1b2ae0e",
   "metadata": {},
   "source": [
    "## Que 8"
   ]
  },
  {
   "cell_type": "markdown",
   "id": "547530e3-4603-4b4d-b751-52041158d94f",
   "metadata": {},
   "source": [
    "A box plot, also known as a box-and-whisker plot, is commonly used to display data in terms of its range and distribution. A box plot provides a visual representation of the data's spread, central tendency, and potential outliers. It is particularly useful for showing how data is distributed and identifying any significant features like outliers or skewness."
   ]
  },
  {
   "cell_type": "markdown",
   "id": "ae55eb75-29fe-4d9a-b532-1c76b199e0e1",
   "metadata": {},
   "source": [
    "## Que 9"
   ]
  },
  {
   "cell_type": "markdown",
   "id": "86b7dba5-63f5-4220-a801-a84926e0bdbb",
   "metadata": {},
   "source": [
    "Descriptive Statistics:\n",
    "* Descriptive statistics involve summarizing and presenting data in a meaningful way to describe its main characteristics.\n",
    "* They are used to provide a snapshot of data, such as measures of central tendency (mean, median) and measures of dispersion (range, standard deviation).\n",
    "* Example: Calculating the average age (mean) of a group of students to understand the typical age in the class.\n",
    "\n",
    "Inferential Statistics:\n",
    "* Inferential statistics involve making predictions and drawing conclusions about populations based on sample data.\n",
    "* They use techniques like hypothesis testing, confidence intervals, and regression analysis to make inferences.\n",
    "* Example: Testing whether a new drug is effective by comparing blood pressure measurements in a group that took the drug and a control group that took a placebo."
   ]
  },
  {
   "cell_type": "markdown",
   "id": "7c3a3de3-edb5-4e25-9f4d-5bbf9bfa6d47",
   "metadata": {},
   "source": [
    "## Que 10"
   ]
  },
  {
   "cell_type": "markdown",
   "id": "ac1aacc2-9dba-4788-b377-6d05256e2e88",
   "metadata": {},
   "source": [
    "Measures of Central Tendency:\n",
    "* Mean: The arithmetic average of a set of values. It is calculated by adding up all the values and dividing by the number of values. Use: Provides a typical value around which data tends to cluster.\n",
    "* Median: The middle value in a sorted dataset. If there is an even number of values, the median is the average of the two middle values. Use: Represents the central value that divides the dataset into two equal parts, useful when dealing with skewed distributions or outliers.\n",
    "* Mode: The most frequent value in a dataset. Use: Identifies the most common value, useful for describing categorical or discrete data.\n",
    "\n",
    "Measures of Variability:\n",
    "* Range: The difference between the maximum and minimum values in a dataset. Use: Provides a rough estimate of the spread of data, but it's sensitive to outliers.\n",
    "* Variance: The average of the squared differences between each data point and the mean. Use: Quantifies the overall variability of data, but its units are squared, making it harder to interpret.\n",
    "* Standard Deviation: The square root of the variance. It measures the average distance between each data point and the mean.Use: Provides a standardized measure of data spread that's in the same units as the original data.\n",
    "* Interquartile Range (IQR): The range between the first quartile (Q1) and the third quartile (Q3) in a dataset. Use: Represents the spread of the middle 50% of the data, resistant to outliers."
   ]
  }
 ],
 "metadata": {
  "kernelspec": {
   "display_name": "Python 3 (ipykernel)",
   "language": "python",
   "name": "python3"
  },
  "language_info": {
   "codemirror_mode": {
    "name": "ipython",
    "version": 3
   },
   "file_extension": ".py",
   "mimetype": "text/x-python",
   "name": "python",
   "nbconvert_exporter": "python",
   "pygments_lexer": "ipython3",
   "version": "3.10.8"
  }
 },
 "nbformat": 4,
 "nbformat_minor": 5
}
