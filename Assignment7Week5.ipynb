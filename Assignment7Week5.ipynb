{
 "cells": [
  {
   "cell_type": "markdown",
   "id": "ca1f1ff0-867a-4726-8012-5865a7eca64f",
   "metadata": {},
   "source": [
    "## Que 1"
   ]
  },
  {
   "cell_type": "markdown",
   "id": "5a45c14f-68ee-49ce-a4fe-bb09b152b0e8",
   "metadata": {},
   "source": [
    "An exception is an event that occurs during the execution of a program, disrupting the normal flow of instructions. When an exceptional situation arises, an exception object is created, which represents the error condition. This exception object contains information about the error, such as its type and message. \n",
    "On the other hand, syntax errors occur when we write code that violates the rules of the Python language. These errors are usually detected by the Python interpreter while parsing the code before the execution starts. "
   ]
  },
  {
   "cell_type": "markdown",
   "id": "467c9ab5-2ab7-47c4-bb00-3d026acc9bc0",
   "metadata": {},
   "source": [
    "## Que 2"
   ]
  },
  {
   "cell_type": "markdown",
   "id": "d4115689-437b-4a04-a37c-03973b68b4d7",
   "metadata": {},
   "source": [
    "When an exception is not handled in a program, it leads to an \"unhandled exception\" case. In such cases, the normal flow of the program is disrupted, and the program terminates abruptly, displaying an error message that describes the unhandled exception. "
   ]
  },
  {
   "cell_type": "code",
   "execution_count": 2,
   "id": "8d061096-d18d-4841-b235-42e2afb91868",
   "metadata": {},
   "outputs": [
    {
     "ename": "ZeroDivisionError",
     "evalue": "division by zero",
     "output_type": "error",
     "traceback": [
      "\u001b[0;31m---------------------------------------------------------------------------\u001b[0m",
      "\u001b[0;31mZeroDivisionError\u001b[0m                         Traceback (most recent call last)",
      "Cell \u001b[0;32mIn[2], line 2\u001b[0m\n\u001b[1;32m      1\u001b[0m \u001b[38;5;66;03m#Example divison by zero excetion which is not handled\u001b[39;00m\n\u001b[0;32m----> 2\u001b[0m a\u001b[38;5;241m=\u001b[39m\u001b[38;5;241;43m10\u001b[39;49m\u001b[38;5;241;43m/\u001b[39;49m\u001b[38;5;241;43m0\u001b[39;49m\n",
      "\u001b[0;31mZeroDivisionError\u001b[0m: division by zero"
     ]
    }
   ],
   "source": [
    "#Example divison by zero excetion which is not handled\n",
    "a=10/0"
   ]
  },
  {
   "cell_type": "markdown",
   "id": "46035bc8-49e7-436f-921e-9462903f56fe",
   "metadata": {},
   "source": [
    "## Que 3"
   ]
  },
  {
   "cell_type": "markdown",
   "id": "916705e5-7931-4943-8a39-74d1826647aa",
   "metadata": {},
   "source": [
    "try-except statement is used to catch and handle exceptions. The try block contains the code that might raise an exception, and the except block specifies the actions to be taken when a specific exception occurs."
   ]
  },
  {
   "cell_type": "code",
   "execution_count": 3,
   "id": "c3873f31-6402-4747-a93d-03e470efc032",
   "metadata": {},
   "outputs": [
    {
     "name": "stdout",
     "output_type": "stream",
     "text": [
      "An exception ocured invalid literal for int() with base 10: 'abc'\n"
     ]
    }
   ],
   "source": [
    "a = \"abc\"\n",
    "try:\n",
    "    int(a)\n",
    "except Exception as e:\n",
    "    print(\"An exception ocured\",e)"
   ]
  },
  {
   "cell_type": "markdown",
   "id": "e9d55527-2346-4f16-a5a6-700b0548c1f8",
   "metadata": {},
   "source": [
    "## Que 4"
   ]
  },
  {
   "cell_type": "code",
   "execution_count": 6,
   "id": "035a9dc3-719b-4260-b685-ce561225197e",
   "metadata": {},
   "outputs": [
    {
     "name": "stdout",
     "output_type": "stream",
     "text": [
      "If no excetion occure in try block\n",
      "Then Else block will run\n"
     ]
    }
   ],
   "source": [
    "try:\n",
    "    print(\"If no excetion occure in try block\")\n",
    "except Exception as e:\n",
    "    print(e)\n",
    "else:\n",
    "    print(\"Then Else block will run\")\n"
   ]
  },
  {
   "cell_type": "code",
   "execution_count": 11,
   "id": "ef7d66da-6148-40f8-b78b-65e9428e089c",
   "metadata": {},
   "outputs": [
    {
     "name": "stdout",
     "output_type": "stream",
     "text": [
      "not readable\n",
      "Finally will run no matter if there is excetion or not\n"
     ]
    }
   ],
   "source": [
    "try:\n",
    "    f = open(\"test.txt\",'w')\n",
    "    f.read()\n",
    "except Exception as e:\n",
    "    print(e)\n",
    "finally:\n",
    "    print(\"Finally will run no matter if there is excetion or not\")\n",
    "    f.close()"
   ]
  },
  {
   "cell_type": "code",
   "execution_count": 12,
   "id": "5912eb98-1ad2-4d1d-a568-fd04334b3424",
   "metadata": {},
   "outputs": [],
   "source": [
    "# raise is used to raise custom exceptions\n",
    "\n",
    "class driving_age(Exception):\n",
    "    def __init__(self,msg):\n",
    "        self.msg=msg\n",
    "\n",
    "def check_driving_age(age):\n",
    "    if(age>=18):\n",
    "        print(\"You are eligible to drive\")\n",
    "    else:\n",
    "        raise driving_age(\"You are under age\")"
   ]
  },
  {
   "cell_type": "code",
   "execution_count": 15,
   "id": "f0b8d86f-0bdd-40cd-9857-60754cdb5ce1",
   "metadata": {},
   "outputs": [
    {
     "name": "stdout",
     "output_type": "stream",
     "text": [
      "You are eligible to drive\n"
     ]
    }
   ],
   "source": [
    "try:\n",
    "    check_driving_age(18)\n",
    "except driving_age as e:\n",
    "    print(e)"
   ]
  },
  {
   "cell_type": "code",
   "execution_count": 16,
   "id": "407f707a-a162-44d8-aa01-faa44f875e30",
   "metadata": {},
   "outputs": [
    {
     "name": "stdout",
     "output_type": "stream",
     "text": [
      "You are under age\n"
     ]
    }
   ],
   "source": [
    "try:\n",
    "    check_driving_age(15)\n",
    "except driving_age as e:\n",
    "    print(e)"
   ]
  },
  {
   "cell_type": "markdown",
   "id": "de034a1f-7ef6-494d-93f9-db4659bb2be7",
   "metadata": {},
   "source": [
    "## Que 5"
   ]
  },
  {
   "cell_type": "markdown",
   "id": "150425d6-d713-4f4f-b70a-77bc5482b78b",
   "metadata": {},
   "source": [
    "Custom exceptions, also known as user-defined exceptions, are exceptions that we can define yourself by creating new classes. These exceptions are derived from the base Exception class or any of its subclasses.\n",
    "By using custom exceptions, we can improve the robustness and maintainability of our code by providing clear and specific error handling mechanisms that align with our application's requirements and domain-specific logic."
   ]
  },
  {
   "cell_type": "code",
   "execution_count": 18,
   "id": "0640ac5d-076b-443b-8849-bdc3910c2117",
   "metadata": {},
   "outputs": [
    {
     "name": "stdout",
     "output_type": "stream",
     "text": [
      "Age is low\n",
      "You can vote\n"
     ]
    }
   ],
   "source": [
    "class Right_to_vote(Exception):\n",
    "    def __init__(self,msg):\n",
    "        self.msg=msg\n",
    "\n",
    "def check_voting_rights(age):\n",
    "    if(age>130):\n",
    "        raise Right_to_vote(\"Age is too high\")\n",
    "    elif age<0:\n",
    "        raise Right_to_vote(\"Age cannot be negative\")\n",
    "    elif age<18:\n",
    "        raise Right_to_vote(\"Age is low\")\n",
    "    else:\n",
    "        print(\"You can vote\")\n",
    "        \n",
    "try:\n",
    "    check_voting_rights(15)\n",
    "except Right_to_vote as e:\n",
    "    print(e)\n",
    "\n",
    "try:\n",
    "    check_voting_rights(21)\n",
    "except Right_to_vote as e:\n",
    "    print(e)"
   ]
  },
  {
   "cell_type": "markdown",
   "id": "5848097a-61f4-4946-8322-e348dd51864c",
   "metadata": {},
   "source": [
    "## Que 6"
   ]
  },
  {
   "cell_type": "code",
   "execution_count": 20,
   "id": "a2249b0c-171c-49e2-b819-18ae3c4bca62",
   "metadata": {},
   "outputs": [
    {
     "name": "stdout",
     "output_type": "stream",
     "text": [
      "Under Age\n",
      "You give exam\n"
     ]
    }
   ],
   "source": [
    "class Examination_age(Exception):\n",
    "    def __init__(self,msg):\n",
    "        self.msg=msg\n",
    "\n",
    "def check_examination_age(age):\n",
    "    if(age>30):\n",
    "        raise Examination_age(\"Age is high\")\n",
    "    elif age<18:\n",
    "        raise Examination_age(\"Under Age\")\n",
    "    else:\n",
    "        print(\"You give exam\")\n",
    "        \n",
    "try:\n",
    "    check_examination_age(15)\n",
    "except Examination_age as e:\n",
    "    print(e)\n",
    "\n",
    "try:\n",
    "    check_examination_age(21)\n",
    "except Examination_age as e:\n",
    "    print(e)"
   ]
  },
  {
   "cell_type": "code",
   "execution_count": null,
   "id": "7c2c1c14-f9ab-40f1-91ba-c8fc556280a4",
   "metadata": {},
   "outputs": [],
   "source": []
  }
 ],
 "metadata": {
  "kernelspec": {
   "display_name": "Python 3 (ipykernel)",
   "language": "python",
   "name": "python3"
  },
  "language_info": {
   "codemirror_mode": {
    "name": "ipython",
    "version": 3
   },
   "file_extension": ".py",
   "mimetype": "text/x-python",
   "name": "python",
   "nbconvert_exporter": "python",
   "pygments_lexer": "ipython3",
   "version": "3.10.8"
  }
 },
 "nbformat": 4,
 "nbformat_minor": 5
}
