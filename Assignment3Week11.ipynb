{
 "cells": [
  {
   "cell_type": "markdown",
   "id": "43da3138-035d-4411-8a4b-e7f457bafcab",
   "metadata": {},
   "source": [
    "## Que 1"
   ]
  },
  {
   "cell_type": "markdown",
   "id": "3b03a572-8ee1-409e-8542-1a16ec01e45b",
   "metadata": {},
   "source": [
    "Estimation Statistics:\n",
    "- Involves using sample data to make educated guesses about population parameters.\n",
    "- Addresses uncertainty in estimating population values.\n",
    "\n",
    "Point Estimate:\n",
    "- Single value that approximates an unknown population parameter.\n",
    "- Calculated from sample data.\n",
    "\n",
    "Interval Estimate (Confidence Interval):\n",
    "- Range of values within which the population parameter is likely to lie.\n",
    "- Provides a level of confidence about the accuracy of the estimate.\n",
    "- Example: \"We are 95% confident that the true population mean falls between X and Y.\"\n",
    "\n",
    "Estimation helps draw conclusions about populations based on limited sample data."
   ]
  },
  {
   "cell_type": "markdown",
   "id": "479fc051-9800-490b-8993-745a71e77b09",
   "metadata": {},
   "source": [
    "## Que 2"
   ]
  },
  {
   "cell_type": "code",
   "execution_count": 1,
   "id": "03a613b8-6669-453b-a07c-251a08b46126",
   "metadata": {},
   "outputs": [],
   "source": [
    "def estimate_population_mean(sample_mean, sample_std_dev, sample_size):\n",
    "    return sample_mean\n"
   ]
  },
  {
   "cell_type": "markdown",
   "id": "d3aa0286-f70b-40d3-a7ff-3e0d9efacd7a",
   "metadata": {},
   "source": [
    "## Que 3"
   ]
  },
  {
   "cell_type": "markdown",
   "id": "632828f0-6a44-4c46-8201-2fbf8a12313e",
   "metadata": {},
   "source": [
    "Hypothesis Testing:\n",
    "- Statistical method to make inferences about population parameters based on sample data.\n",
    "- Involves formulating two competing hypotheses and using sample evidence to determine which hypothesis is more likely.\n",
    "\n",
    "Importance of Hypothesis Testing:\n",
    "- Allows us to make decisions and draw conclusions about population parameters.\n",
    "- Provides a systematic approach to validate assumptions or claims using data.\n",
    "- Used in research, quality control, medicine, social sciences, and more.\n",
    "- Helps in assessing the significance of relationships, effects, or differences in data."
   ]
  },
  {
   "cell_type": "markdown",
   "id": "c47abf86-33f6-4c2a-aa94-b247ac98e2fb",
   "metadata": {},
   "source": [
    "## Que 4"
   ]
  },
  {
   "cell_type": "markdown",
   "id": "9abcebb1-43f1-450e-a2e6-aa61849f96dd",
   "metadata": {},
   "source": [
    "Null Hypothesis (H0):\n",
    "The average weight of male college students is equal to or less than the average weight of female college students.\n",
    "\n",
    "Alternative Hypothesis (H1):\n",
    "The average weight of male college students is greater than the average weight of female college students."
   ]
  },
  {
   "cell_type": "markdown",
   "id": "5097f1ea-b103-432f-b0a7-f14e9cf225fc",
   "metadata": {},
   "source": [
    "## Que 5"
   ]
  },
  {
   "cell_type": "code",
   "execution_count": 2,
   "id": "68094820-a614-4e26-9e6c-bfabf06d6d35",
   "metadata": {},
   "outputs": [
    {
     "name": "stdout",
     "output_type": "stream",
     "text": [
      "Reject the null hypothesis. There is evidence to support the alternative hypothesis.\n"
     ]
    }
   ],
   "source": [
    "import scipy.stats as stats\n",
    "\n",
    "def conduct_hypothesis_test(sample1, sample2, alpha=0.05):\n",
    "    \n",
    "    t_statistic, p_value = stats.ttest_ind(sample1, sample2, equal_var=True)\n",
    "    \n",
    "    \n",
    "    if p_value < alpha:\n",
    "        print(\"Reject the null hypothesis. There is evidence to support the alternative hypothesis.\")\n",
    "    else:\n",
    "        print(\"Fail to reject the null hypothesis. Insufficient evidence to support the alternative hypothesis.\")\n",
    "\n",
    "# Example usage\n",
    "sample_male = [70, 72, 68, 75, 74, 71, 73, 69, 70, 72]\n",
    "sample_female = [62, 64, 60, 65, 63, 62, 61, 59, 63, 64]\n",
    "\n",
    "conduct_hypothesis_test(sample_male, sample_female)\n"
   ]
  },
  {
   "cell_type": "markdown",
   "id": "79d252eb-942c-4de9-9ecb-3024ab12447f",
   "metadata": {},
   "source": [
    "## Que 6"
   ]
  },
  {
   "cell_type": "markdown",
   "id": "ff325e01-72e1-4a56-b718-39e52d037da0",
   "metadata": {},
   "source": [
    "Null Hypothesis (H0):\n",
    "- A statement of no effect, no difference, or no relationship.\n",
    "- Often assumed to be true initially.\n",
    "- Tested against the alternative hypothesis.\n",
    "\n",
    "Examples:\n",
    "1. H0: There is no difference in average exam scores between two teaching methods.\n",
    "2. H0: The new drug has no effect on reducing blood pressure.\n",
    "\n",
    "Alternative Hypothesis (H1):\n",
    "- A statement that contradicts the null hypothesis.\n",
    "- Represents the effect, difference, or relationship being tested for.\n",
    "\n",
    "Examples:\n",
    "1. H1: There is a significant difference in average exam scores between two teaching methods.\n",
    "2. H1: The new drug has an effect on reducing blood pressure."
   ]
  },
  {
   "cell_type": "markdown",
   "id": "4ec9542e-3ad8-4ca4-9145-43695af8b2fa",
   "metadata": {},
   "source": [
    "## Que 7"
   ]
  },
  {
   "cell_type": "markdown",
   "id": "16506f65-bb49-4490-8412-a4ae0dec38e9",
   "metadata": {},
   "source": [
    "1. **Formulate Hypotheses**:\n",
    "   - State the null (H0) and alternative (H1) hypotheses.\n",
    "\n",
    "2. **Choose Significance Level (Alpha)**:\n",
    "   - Determine the level of significance for the test (commonly 0.05 or 0.01).\n",
    "\n",
    "3. **Collect Data and Calculate Test Statistic**:\n",
    "   - Gather relevant sample data.\n",
    "   - Calculate the appropriate test statistic (e.g., t-statistic, z-score, etc.).\n",
    "\n",
    "4. **Determine Critical Region or P-value**:\n",
    "   - Find the critical value(s) from a statistical table or calculate p-value.\n",
    "\n",
    "5. **Make Decision**:\n",
    "   - If p-value < alpha: Reject H0 in favor of H1.\n",
    "   - If p-value ≥ alpha: Fail to reject H0.\n",
    "\n",
    "6. **Interpret Results**:\n",
    "   - Draw conclusions based on the decision.\n",
    "   - Consider practical significance along with statistical significance.\n",
    "\n",
    "7. **Conclusion**:\n",
    "   - Summarize the outcome of the test in the context of the problem.\n",
    "\n",
    "8. **Report Findings**:\n",
    "   - Clearly state the results, including hypothesis statements, decision, and significance level.\n",
    "\n",
    "9. **Consider Limitations**:\n",
    "   - Discuss potential limitations of the analysis or assumptions made.\n",
    "\n",
    "10. **Repeat and Review** (if necessary):\n",
    "    - Repeat the process if different data or assumptions are used.\n",
    "    - Review the results and conclusions for accuracy and consistency."
   ]
  },
  {
   "cell_type": "markdown",
   "id": "ecfa3ade-d4cf-440e-814b-4fc811a606a7",
   "metadata": {},
   "source": [
    "## Que 8"
   ]
  },
  {
   "cell_type": "markdown",
   "id": "e4726564-d779-4758-a5dd-6ea20a76c631",
   "metadata": {},
   "source": [
    "p-value:\n",
    "- Probability of observing a test statistic as extreme as, or more extreme than, the one calculated from sample data, assuming that the null hypothesis is true.\n",
    "- Indicates the strength of evidence against the null hypothesis.\n",
    "\n",
    "Significance of p-value in Hypothesis Testing:\n",
    "- If p-value is small (typically < alpha), it suggests that the observed data is unlikely under the null hypothesis.\n",
    "- Smaller p-value indicates stronger evidence against H0.\n",
    "- If p-value is large, it suggests that the observed data is plausible under the null hypothesis.\n",
    "- Larger p-value means weaker evidence against H0.\n",
    "- p-value helps decide whether to reject or fail to reject the null hypothesis."
   ]
  },
  {
   "cell_type": "markdown",
   "id": "62206e59-1103-49b4-a22f-c586b79cb790",
   "metadata": {},
   "source": [
    "## Que 9"
   ]
  },
  {
   "cell_type": "code",
   "execution_count": 3,
   "id": "3f9dc1ad-8c5a-465f-9d15-2b2dc5d638c0",
   "metadata": {},
   "outputs": [
    {
     "data": {
      "image/png": "[encoded data removed]",
      "text/plain": [
       "<Figure size 640x480 with 1 Axes>"
      ]
     },
     "metadata": {},
     "output_type": "display_data"
    }
   ],
   "source": [
    "import numpy as np\n",
    "import matplotlib.pyplot as plt\n",
    "from scipy.stats import t\n",
    "\n",
    "# Degrees of freedom\n",
    "df = 10\n",
    "\n",
    "# Generate x values\n",
    "x = np.linspace(-4, 4, 500)\n",
    "\n",
    "# Calculate y values using t-distribution PDF\n",
    "y = t.pdf(x, df)\n",
    "\n",
    "# Create the plot\n",
    "plt.plot(x, y, label=f'df = {df}')\n",
    "plt.title(\"Student's t-distribution\")\n",
    "plt.xlabel('x')\n",
    "plt.ylabel('Probability Density')\n",
    "plt.legend()\n",
    "plt.grid()\n",
    "plt.show()\n"
   ]
  },
  {
   "cell_type": "markdown",
   "id": "5312e6bd-b43b-4c18-833b-f88768c9c925",
   "metadata": {},
   "source": [
    "## Que 10"
   ]
  },
  {
   "cell_type": "code",
   "execution_count": 5,
   "id": "2d5026a9-c562-4294-a3c1-33ed40ad78f4",
   "metadata": {},
   "outputs": [
    {
     "name": "stdout",
     "output_type": "stream",
     "text": [
      "t-statistic: 0.2167\n",
      "p-value: 0.8339\n",
      "Fail to reject the null hypothesis\n"
     ]
    }
   ],
   "source": [
    "import scipy.stats as stats\n",
    "\n",
    "def independent_t_test(sample1, sample2, alpha=0.05):\n",
    "    # Calculate means and standard deviations\n",
    "    mean1 = sum(sample1) / len(sample1)\n",
    "    mean2 = sum(sample2) / len(sample2)\n",
    "    std_dev1 = (sum((x - mean1)**2 for x in sample1) / (len(sample1) - 1))**0.5\n",
    "    std_dev2 = (sum((x - mean2)**2 for x in sample2) / (len(sample2) - 1))**0.5\n",
    "    \n",
    "    # Calculate the t-statistic\n",
    "    t_statistic = (mean1 - mean2) / ((std_dev1**2 / len(sample1)) + (std_dev2**2 / len(sample2)))**0.5\n",
    "    \n",
    "    # Degrees of freedom\n",
    "    df = len(sample1) + len(sample2) - 2\n",
    "    \n",
    "    # Calculate the critical t-value\n",
    "    critical_t = stats.t.ppf(1 - alpha / 2, df)\n",
    "    \n",
    "    # Calculate the p-value\n",
    "    p_value = stats.t.sf(abs(t_statistic), df) * 2\n",
    "    \n",
    "    # Determine whether to reject the null hypothesis\n",
    "    if abs(t_statistic) > critical_t:\n",
    "        conclusion = \"Reject the null hypothesis\"\n",
    "    else:\n",
    "        conclusion = \"Fail to reject the null hypothesis\"\n",
    "    \n",
    "    return t_statistic, p_value, conclusion\n",
    "\n",
    "# Example usage\n",
    "sample1 = [23, 28, 32, 34, 38]\n",
    "sample2 = [19, 24, 31, 36, 40]\n",
    "\n",
    "t_statistic, p_value, conclusion = independent_t_test(sample1, sample2)\n",
    "print(f\"t-statistic: {t_statistic:.4f}\")\n",
    "print(f\"p-value: {p_value:.4f}\")\n",
    "print(conclusion)\n"
   ]
  },
  {
   "cell_type": "markdown",
   "id": "dbb1b8b0-25a6-4d24-b08d-1545eb9d9d0b",
   "metadata": {},
   "source": [
    "## Que 11"
   ]
  },
  {
   "cell_type": "markdown",
   "id": "6a9e79d5-7f4e-48ef-8f7e-1a49c5975515",
   "metadata": {},
   "source": [
    "The t-distribution is a probability distribution used for estimating population parameters when the sample size is small or the population standard deviation is unknown."
   ]
  },
  {
   "cell_type": "markdown",
   "id": "98f23646-79d3-445a-ac47-aa3465112fee",
   "metadata": {},
   "source": [
    "## Que 12"
   ]
  },
  {
   "cell_type": "markdown",
   "id": "5b36f48e-12ce-4cec-a1d0-d32c0327b150",
   "metadata": {},
   "source": [
    "The t-statistic measures the difference between the sample mean and the population mean in terms of the standard error of the sample mean. Formula: t = (sample mean - population mean) / (sample standard error).The t-statistic measures the difference between the sample mean and the population mean in terms of the standard error of the sample mean. Formula: t = (sample mean - population mean) / (sample standard error)."
   ]
  },
  {
   "cell_type": "markdown",
   "id": "5460465d-6e36-4675-ad68-885c84662ae4",
   "metadata": {},
   "source": [
    "## Que 13"
   ]
  },
  {
   "cell_type": "markdown",
   "id": "00eccd79-51e4-4de9-aaf3-604387ead8b8",
   "metadata": {},
   "source": [
    "1. Given sample mean ($500), sample standard deviation ($50), sample size (50), and confidence level (95%).\n",
    "\n",
    "2. For a 95% confidence interval with a sample size of 50, the critical t-value is approximately 2.009 (lookup in t-table or use a calculator).\n",
    "\n",
    "3. Standard error (SE) = sample standard deviation / √sample size = $50 / √50 ≈ $7.07.\n",
    "\n",
    "4. Margin of error (ME) = critical t-value * standard error ≈ 2.009 * $7.07 ≈ $14.20.\n",
    "\n",
    "5. Population mean estimate ± margin of error = $500 ± $14.20.\n",
    "\n",
    "6. The 95% confidence interval for the population mean revenue is approximately $485.80 to $514.20."
   ]
  },
  {
   "cell_type": "markdown",
   "id": "d0f41bef-73ed-4f07-8636-a7dcb6d5562c",
   "metadata": {},
   "source": [
    "## Que 14"
   ]
  },
  {
   "cell_type": "markdown",
   "id": "9ff2a85d-9489-4cbf-9aff-60f824ea2fcc",
   "metadata": {},
   "source": [
    "Perform a one-sample t-test:\n",
    "\n",
    "1. **Null Hypothesis (H0):** The new drug does not decrease blood pressure by 10 mmHg.\n",
    "   Alternate Hypothesis (Ha): The new drug decreases blood pressure by ≠ 10 mmHg.\n",
    "\n",
    "2. **Given:** Sample mean (x̄) = 8 mmHg, Sample standard deviation (s) = 3 mmHg, Sample size (n) = 100, Significance level (α) = 0.05, Population mean under the null hypothesis (μ0) = 10 mmHg.\n",
    "\n",
    "3. **Calculate Test Statistic:** t = (x̄ - μ0) / (s / √n) = (8 - 10) / (3 / √100) = -2 / 0.3 ≈ -6.67.\n",
    "\n",
    "4. **Find Critical Value:** For a two-tailed test at α = 0.05 with degrees of freedom (df) = n - 1 = 100 - 1 = 99, the critical t-value is approximately ±1.984 .\n",
    "\n",
    "5. **Compare Test Statistic and Critical Value:** Since |-6.67| > 1.984, we reject the null hypothesis.\n",
    "\n",
    "6. **Conclusion:** At a significance level of 0.05, there is enough evidence to conclude that the new drug decreases blood pressure by a different amount than 10 mmHg.\n",
    "\n",
    "The researcher's hypothesis is supported based on the test results."
   ]
  },
  {
   "cell_type": "markdown",
   "id": "e2b04936-7eea-4095-951b-865964ed7bc0",
   "metadata": {},
   "source": [
    "## Que 15"
   ]
  },
  {
   "cell_type": "markdown",
   "id": "fc22388d-4ebd-4592-acb5-522084a9d4ea",
   "metadata": {},
   "source": [
    "Perform a one-sample t-test:\n",
    "\n",
    "1. **Null Hypothesis (H0):** The true mean weight of the products is 5 pounds.\n",
    "   Alternate Hypothesis (Ha): The true mean weight of the products is less than 5 pounds.\n",
    "\n",
    "2. **Given:** Sample mean (x̄) = 4.8 pounds, Sample size (n) = 25, Population mean under the null hypothesis (μ0) = 5 pounds, Population standard deviation (σ) = 0.5 pounds, Significance level (α) = 0.01.\n",
    "\n",
    "3. **Calculate Test Statistic:** t = (x̄ - μ0) / (σ / √n) = (4.8 - 5) / (0.5 / √25) = -0.2 / 0.1 = -2.\n",
    "\n",
    "4. **Find Critical Value:** For a one-tailed test at α = 0.01 with degrees of freedom (df) = n - 1 = 25 - 1 = 24, the critical t-value is approximately -2.492.\n",
    "\n",
    "5. **Compare Test Statistic and Critical Value:** Since -2 > -2.492, we do not reject the null hypothesis.\n",
    "\n",
    "6. **Conclusion:** At a significance level of 0.01, there is not enough evidence to conclude that the true mean weight of the products is less than 5 pounds.\n",
    "\n",
    "The test results do not provide sufficient evidence to support the hypothesis that the true mean weight is less than 5 pounds."
   ]
  },
  {
   "cell_type": "markdown",
   "id": "51d69b56-7ec2-461a-8038-b658a7f2dcd9",
   "metadata": {},
   "source": [
    "## Que 16"
   ]
  },
  {
   "cell_type": "markdown",
   "id": "13c500a2-222a-4a96-9a66-75fa09606f70",
   "metadata": {},
   "source": [
    "Perform a two-sample t-test for independent samples:\n",
    "\n",
    "1. **Null Hypothesis (H0):** The population means for the two groups are equal (μ1 = μ2).\n",
    "   Alternate Hypothesis (Ha): The population means for the two groups are not equal (μ1 ≠ μ2).\n",
    "\n",
    "2. **Given:** Sample mean (x̄1) for Group 1 = 80, Sample standard deviation (s1) for Group 1 = 10, Sample size (n1) for Group 1 = 30. Sample mean (x̄2) for Group 2 = 75, Sample standard deviation (s2) for Group 2 = 8, Sample size (n2) for Group 2 = 40. Significance level (α) = 0.01.\n",
    "\n",
    "3. **Calculate Pooled Standard Deviation:** Pooled standard deviation (sp) = √((s1²(n1 - 1) + s2²(n2 - 1)) / (n1 + n2 - 2)).\n",
    "\n",
    "4. **Calculate Test Statistic:** t = (x̄1 - x̄2) / (sp * √(1/n1 + 1/n2)).\n",
    "\n",
    "5. **Degrees of Freedom:** df = n1 + n2 - 2.\n",
    "\n",
    "6. **Find Critical Value:** For a two-tailed test at α = 0.01 with the calculated degrees of freedom, find the critical t-value.\n",
    "\n",
    "7. **Compare Test Statistic and Critical Value:** If the absolute value of the calculated t-statistic is greater than the critical t-value, reject the null hypothesis.\n",
    "\n",
    "8. **Conclusion:** Based on the comparison, make a conclusion about whether there is enough evidence to reject the null hypothesis.\n",
    "\n",
    "This procedure will determine whether there is sufficient evidence to conclude that the population means for the two groups are not equal."
   ]
  },
  {
   "cell_type": "markdown",
   "id": "1950de67-a218-4dad-bb54-90526cb4d054",
   "metadata": {},
   "source": [
    "## Que 17"
   ]
  },
  {
   "cell_type": "markdown",
   "id": "75c6f9f2-f168-4faf-90f2-98c3f01f0c78",
   "metadata": {},
   "source": [
    "Sure, here are the steps to calculate the 99% confidence interval for the population mean:\n",
    "\n",
    "1. **Identify Parameters:** Given sample mean ($4), sample standard deviation ($1.5), sample size (50), and confidence level (99%).\n",
    "\n",
    "2. **Find Critical Value:** For a 99% confidence interval with a sample size of 50, the critical t-value is approximately 2.691 (lookup in t-table or use a calculator).\n",
    "\n",
    "3. **Calculate Standard Error:** Standard error (SE) = sample standard deviation / √sample size = $1.5 / √50 ≈ $0.2121.\n",
    "\n",
    "4. **Calculate Margin of Error:** Margin of error (ME) = critical t-value * standard error ≈ 2.691 * $0.2121 ≈ $0.5713.\n",
    "\n",
    "5. **Confidence Interval:** Population mean estimate ± margin of error = $4 ± $0.5713.\n",
    "\n",
    "6. **Result:** The 99% confidence interval for the population mean number of ads watched is approximately 3.4287 to 4.5713.\n",
    "\n",
    "These steps provide an interval within which the true population mean is likely to fall with a 99% level of confidence."
   ]
  }
 ],
 "metadata": {
  "kernelspec": {
   "display_name": "Python 3 (ipykernel)",
   "language": "python",
   "name": "python3"
  },
  "language_info": {
   "codemirror_mode": {
    "name": "ipython",
    "version": 3
   },
   "file_extension": ".py",
   "mimetype": "text/x-python",
   "name": "python",
   "nbconvert_exporter": "python",
   "pygments_lexer": "ipython3",
   "version": "3.10.8"
  }
 },
 "nbformat": 4,
 "nbformat_minor": 5
}
