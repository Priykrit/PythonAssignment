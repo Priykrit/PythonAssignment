{
 "cells": [
  {
   "cell_type": "markdown",
   "id": "b06bebf1-322e-44f5-bde2-6da6398950ea",
   "metadata": {},
   "source": [
    "## Que 1"
   ]
  },
  {
   "cell_type": "markdown",
   "id": "7cd02137-0cef-4a9a-aa60-1185ec0ff0fb",
   "metadata": {},
   "source": [
    "Artificial Intelligence: Computer systems performing tasks that typically require human intelligence. Example: Chatbots answering questions.\n",
    "\n",
    "Machine Learning: Algorithms improving with experience from data. Example: Spam filters learning to classify emails.\n",
    "\n",
    "Deep Learning: Subset of machine learning using neural networks. Example: Image recognition by convolutional neural networks."
   ]
  },
  {
   "cell_type": "markdown",
   "id": "c4d6a8be-b678-4738-acb9-d51d8bc0a6e4",
   "metadata": {},
   "source": [
    "## Que 2"
   ]
  },
  {
   "cell_type": "markdown",
   "id": "ff0c3179-5126-4825-8e70-90bdcda327b0",
   "metadata": {},
   "source": [
    "Supervised learning: Training a model on labeled data to make predictions or classifications.\n",
    "\n",
    "Examples:\n",
    "1. Predicting House Prices: Using features like size and location to predict house prices.\n",
    "2. Language Translation: Translating sentences from one language to another.\n",
    "3. Handwriting Recognition: Converting handwritten text into digital text.\n",
    "4. Sentiment Analysis: Determining if a text expresses positive or negative sentiment.\n",
    "5. Fraud Detection: Identifying fraudulent transactions based on historical data."
   ]
  },
  {
   "cell_type": "markdown",
   "id": "46b81943-f636-4338-99c4-46c5773132aa",
   "metadata": {},
   "source": [
    "## Que 3"
   ]
  },
  {
   "cell_type": "markdown",
   "id": "bc0f9f27-3b54-4f86-a06e-398cb50324ae",
   "metadata": {},
   "source": [
    "Unsupervised learning: Finding patterns in data without labeled outcomes.\n",
    "\n",
    "Examples:\n",
    "1. Clustering: Grouping similar customer profiles for targeted marketing.\n",
    "2. Anomaly Detection: Identifying unusual behavior in network traffic for cybersecurity.\n",
    "3. Topic Modeling: Discovering themes in a collection of documents.\n",
    "4. Dimensionality Reduction: Simplifying data while retaining essential information.\n",
    "5. Recommender Systems: Suggesting products based on user preferences."
   ]
  },
  {
   "cell_type": "markdown",
   "id": "657c7b74-9352-40f5-8cb1-b497c46348ed",
   "metadata": {},
   "source": [
    "## Que 4"
   ]
  },
  {
   "cell_type": "markdown",
   "id": "37b0635e-b1d9-4af5-a3d0-f966a5d4ec3f",
   "metadata": {},
   "source": [
    "AI: General field of creating intelligent machines capable of human-like tasks.\n",
    "\n",
    "ML: Subset of AI where algorithms learn from data to make predictions or decisions.\n",
    "\n",
    "DL: Subset of ML using deep neural networks to model complex patterns.\n",
    "\n",
    "DS: Data Science involves extracting insights from data using various techniques. It encompasses AI, ML, and DL as well.\n"
   ]
  },
  {
   "cell_type": "markdown",
   "id": "21bd1596-de0d-4704-bb96-c8cb799017e0",
   "metadata": {},
   "source": [
    "## Que 5"
   ]
  },
  {
   "cell_type": "markdown",
   "id": "35d5b3bb-b91a-4a56-9b2f-83876b1fa021",
   "metadata": {},
   "source": [
    "Supervised Learning: Model learns from labeled data with input-output pairs.\n",
    "\n",
    "Unsupervised Learning: Model finds patterns in unlabeled data without predefined outputs.\n",
    "\n",
    "Semi-Supervised Learning: Mixes labeled and unlabeled data to improve learning.\n"
   ]
  },
  {
   "cell_type": "markdown",
   "id": "957e62a1-4ef7-4911-9421-141c1879f423",
   "metadata": {},
   "source": [
    "## Que 6"
   ]
  },
  {
   "cell_type": "markdown",
   "id": "86d2a25a-13de-41dc-bcbb-f46a2e76282b",
   "metadata": {},
   "source": [
    "Train, Test, and Validation Split: Dividing data into subsets for machine learning model training, evaluation, and tuning.\n",
    "\n",
    "Importance:\n",
    "1. **Training Set**: Data used to train the model, enabling it to learn patterns.\n",
    "2. **Validation Set**: Used to fine-tune model parameters, preventing overfitting.\n",
    "3. **Test Set**: Evaluates model performance on unseen data, gauging generalization.\n",
    "\n",
    "These splits ensure the model performs well on new data and isn't just memorizing the training set."
   ]
  },
  {
   "cell_type": "markdown",
   "id": "e1aab0ea-fcb6-44e3-be11-8f367acd7911",
   "metadata": {},
   "source": [
    "## Que 7"
   ]
  },
  {
   "cell_type": "markdown",
   "id": "21cf47e6-3656-4ba0-9929-b3bd22caf47f",
   "metadata": {},
   "source": [
    "Unsupervised learning for anomaly detection involves identifying unusual patterns in data without labeled anomalies.\n",
    "\n",
    "Approach:\n",
    "1. **Clustering**: Group normal data points; anomalies fall outside clusters.\n",
    "2. **Density-Based Methods**: Identify regions with low data density as anomalies.\n",
    "3. **Autoencoders**: Train neural networks to reconstruct data; anomalies have high reconstruction error.\n",
    "4. **Isolation Forest**: Builds trees isolating anomalies faster than normal points.\n",
    "5. **One-Class SVM**: Learns boundaries around normal data, detecting anomalies outside.\n",
    "\n",
    "These methods find anomalies without requiring labeled anomaly examples, making them useful for real-world scenarios where anomalies are rare and unknown."
   ]
  },
  {
   "cell_type": "markdown",
   "id": "d7e68206-42e3-446f-87f4-4e7f6d9f6324",
   "metadata": {},
   "source": [
    "## Que 8"
   ]
  },
  {
   "cell_type": "markdown",
   "id": "fdb89abc-78ba-4bf4-90cb-5915386ee299",
   "metadata": {},
   "source": [
    "**Supervised Learning Algorithms**:\n",
    "1. Linear Regression\n",
    "2. Decision Trees\n",
    "3. Random Forest\n",
    "4. Support Vector Machines (SVM)\n",
    "5. Naive Bayes\n",
    "6. K-Nearest Neighbors (KNN)\n",
    "7. Neural Networks\n",
    "8. Gradient Boosting (e.g., XGBoost, LightGBM)\n",
    "9. Logistic Regression\n",
    "10. Ridge and Lasso Regression\n",
    "\n",
    "**Unsupervised Learning Algorithms**:\n",
    "1. K-Means Clustering\n",
    "2. Hierarchical Clustering\n",
    "3. DBSCAN (Density-Based Spatial Clustering of Applications with Noise)\n",
    "4. Gaussian Mixture Models (GMM)\n",
    "5. Principal Component Analysis (PCA)\n",
    "6. Independent Component Analysis (ICA)\n",
    "7. t-SNE (t-Distributed Stochastic Neighbor Embedding)\n",
    "8. Autoencoders\n",
    "9. Isolation Forest\n",
    "10. Self-Organizing Maps (SOM)"
   ]
  }
 ],
 "metadata": {
  "kernelspec": {
   "display_name": "Python 3 (ipykernel)",
   "language": "python",
   "name": "python3"
  },
  "language_info": {
   "codemirror_mode": {
    "name": "ipython",
    "version": 3
   },
   "file_extension": ".py",
   "mimetype": "text/x-python",
   "name": "python",
   "nbconvert_exporter": "python",
   "pygments_lexer": "ipython3",
   "version": "3.10.8"
  }
 },
 "nbformat": 4,
 "nbformat_minor": 5
}
