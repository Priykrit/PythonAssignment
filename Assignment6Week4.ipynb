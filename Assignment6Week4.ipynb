{
 "cells": [
  {
   "cell_type": "markdown",
   "id": "e20a8902-01fa-433f-9263-38c33380e399",
   "metadata": {},
   "source": [
    "## Que 1"
   ]
  },
  {
   "cell_type": "code",
   "execution_count": 1,
   "id": "fcc4b428-5448-4bae-a4a4-359b783411d6",
   "metadata": {},
   "outputs": [],
   "source": [
    "class vehicle:\n",
    "    \n",
    "    def __init__(self,name_of_vehicle, max_speed, average_of_vehicle):\n",
    "        self.name_of_vehicle = name_of_vehicle\n",
    "        self.max_speed = max_speed\n",
    "        self.average_of_vehicle = average_of_vehicle"
   ]
  },
  {
   "cell_type": "markdown",
   "id": "856dc078-67e7-4800-add9-ac28b25a29f1",
   "metadata": {},
   "source": [
    "## Que 2"
   ]
  },
  {
   "cell_type": "code",
   "execution_count": 4,
   "id": "c6d96bf8-9f3d-485c-aed8-bff722a29c2a",
   "metadata": {},
   "outputs": [],
   "source": [
    "class car(vehicle):\n",
    "    \n",
    "    def seating_capacity(self,capacity):\n",
    "        self.capacity = capacity\n",
    "        return self.name_of_vehicle,self.capacity"
   ]
  },
  {
   "cell_type": "markdown",
   "id": "393f8d4a-5b5d-48ee-a019-bcb5d2a3e470",
   "metadata": {},
   "source": [
    "## Que 3"
   ]
  },
  {
   "cell_type": "markdown",
   "id": "ce81fe5f-7ca7-478f-8cd7-894e06086a0f",
   "metadata": {},
   "source": [
    "Multiple inheritance allows a derived class to inherit from multiple base classes. The derived class inherits attributes and methods from all the base classes."
   ]
  },
  {
   "cell_type": "code",
   "execution_count": 7,
   "id": "ec70f210-8c82-4f70-9901-5986ca888672",
   "metadata": {},
   "outputs": [],
   "source": [
    "class A:\n",
    "    \n",
    "    def method1(self):\n",
    "        print(\"This is method1 from class A\")"
   ]
  },
  {
   "cell_type": "code",
   "execution_count": 8,
   "id": "14fa3c7e-9e73-41b3-a6ed-dac4283c8d17",
   "metadata": {},
   "outputs": [],
   "source": [
    "class B:\n",
    "    \n",
    "    def method2(self):\n",
    "        print(\"This is method2 from class B\")"
   ]
  },
  {
   "cell_type": "code",
   "execution_count": 9,
   "id": "483b10b2-1a53-42f3-aa00-3c9f6ceede4b",
   "metadata": {},
   "outputs": [],
   "source": [
    "class C(A,B):\n",
    "    \n",
    "    def method3(self):\n",
    "        print(\"This is method3 from class C\")"
   ]
  },
  {
   "cell_type": "code",
   "execution_count": 10,
   "id": "e5c0002d-9909-4d40-b632-030cb7c9c857",
   "metadata": {},
   "outputs": [
    {
     "name": "stdout",
     "output_type": "stream",
     "text": [
      "This is method1 from class A\n",
      "This is method2 from class B\n",
      "This is method3 from class C\n"
     ]
    },
    {
     "data": {
      "text/plain": [
       "(None, None, None)"
      ]
     },
     "execution_count": 10,
     "metadata": {},
     "output_type": "execute_result"
    }
   ],
   "source": [
    "c = C()\n",
    "c.method1(),c.method2(),c.method3()"
   ]
  },
  {
   "cell_type": "markdown",
   "id": "b44c7d50-4258-406b-93c2-5de8863f0d95",
   "metadata": {},
   "source": [
    "## Que 4"
   ]
  },
  {
   "cell_type": "markdown",
   "id": "c9a76d53-fa59-4364-aec7-a1636d7380ff",
   "metadata": {},
   "source": [
    "The getters and setters are methods used to access and modify the attributes (properties) of a class. They provide controlled access to the attributes and allow for additional logic or validation to be applied when retrieving or updating their values."
   ]
  },
  {
   "cell_type": "code",
   "execution_count": 11,
   "id": "9cdbdb77-4da7-4c7b-9cd6-cb1b09207fa2",
   "metadata": {},
   "outputs": [],
   "source": [
    "class n:\n",
    "    def __init__(self):\n",
    "        self.__a = 'a'\n",
    "        \n",
    "    @property\n",
    "    def value(self):\n",
    "        return self.__a\n",
    "    \n",
    "    @value.setter\n",
    "    def set_value(self,a):\n",
    "        self.__a = a\n",
    "    @value.getter\n",
    "    def get_value(self):\n",
    "        return self.__a"
   ]
  },
  {
   "cell_type": "code",
   "execution_count": 12,
   "id": "d8a358b3-3c3b-4ae1-bbdc-22412b89da7b",
   "metadata": {},
   "outputs": [],
   "source": [
    "N = n()"
   ]
  },
  {
   "cell_type": "code",
   "execution_count": 13,
   "id": "d7233f29-11bb-4b96-bbba-0698641ffe5f",
   "metadata": {},
   "outputs": [
    {
     "data": {
      "text/plain": [
       "'a'"
      ]
     },
     "execution_count": 13,
     "metadata": {},
     "output_type": "execute_result"
    }
   ],
   "source": [
    "N.get_value"
   ]
  },
  {
   "cell_type": "code",
   "execution_count": 14,
   "id": "1b175616-5f04-44d2-aeea-808be2731011",
   "metadata": {},
   "outputs": [],
   "source": [
    "N.set_value = 'b'"
   ]
  },
  {
   "cell_type": "code",
   "execution_count": 15,
   "id": "c579459c-66b1-4b0d-99ca-a79ecf7008c9",
   "metadata": {},
   "outputs": [
    {
     "data": {
      "text/plain": [
       "'b'"
      ]
     },
     "execution_count": 15,
     "metadata": {},
     "output_type": "execute_result"
    }
   ],
   "source": [
    "N.get_value"
   ]
  },
  {
   "cell_type": "markdown",
   "id": "780098aa-bc65-417c-8f0e-1fbdf7bfc4a9",
   "metadata": {},
   "source": [
    "## Que 5"
   ]
  },
  {
   "cell_type": "markdown",
   "id": "ee8ec76e-b253-4bc3-b807-d76877fd9fe7",
   "metadata": {},
   "source": [
    "\n",
    "Method overriding in Python refers to the ability of a derived class to provide its own implementation of a method that is already defined in its base class."
   ]
  },
  {
   "cell_type": "code",
   "execution_count": 16,
   "id": "f188f09b-bf33-4336-adf3-109377f42b69",
   "metadata": {},
   "outputs": [],
   "source": [
    "class A:\n",
    "    def method(self):\n",
    "        print(\"This method is from class A\")"
   ]
  },
  {
   "cell_type": "code",
   "execution_count": 17,
   "id": "9f14698d-6816-4a52-a758-e240c2b6ec0e",
   "metadata": {},
   "outputs": [],
   "source": [
    "class B(A):\n",
    "    def method(self):\n",
    "        print(\"This method is overwritten by class B\")"
   ]
  },
  {
   "cell_type": "code",
   "execution_count": 18,
   "id": "7831d7c6-3527-4ad2-adf9-56458331d5b0",
   "metadata": {},
   "outputs": [
    {
     "name": "stdout",
     "output_type": "stream",
     "text": [
      "This method is from class A\n",
      "This method is overwritten by class B\n"
     ]
    },
    {
     "data": {
      "text/plain": [
       "(None, None)"
      ]
     },
     "execution_count": 18,
     "metadata": {},
     "output_type": "execute_result"
    }
   ],
   "source": [
    "a = A()\n",
    "b = B()\n",
    "a.method(),b.method()"
   ]
  },
  {
   "cell_type": "code",
   "execution_count": null,
   "id": "93632a01-741a-477e-9bb0-ce8a82b3dd65",
   "metadata": {},
   "outputs": [],
   "source": []
  }
 ],
 "metadata": {
  "kernelspec": {
   "display_name": "Python 3 (ipykernel)",
   "language": "python",
   "name": "python3"
  },
  "language_info": {
   "codemirror_mode": {
    "name": "ipython",
    "version": 3
   },
   "file_extension": ".py",
   "mimetype": "text/x-python",
   "name": "python",
   "nbconvert_exporter": "python",
   "pygments_lexer": "ipython3",
   "version": "3.10.8"
  }
 },
 "nbformat": 4,
 "nbformat_minor": 5
}
